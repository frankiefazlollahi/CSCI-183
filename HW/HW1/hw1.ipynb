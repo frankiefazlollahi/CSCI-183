{
 "cells": [
  {
   "cell_type": "markdown",
   "id": "088adc9b",
   "metadata": {},
   "source": [
    "**Python Basics**"
   ]
  },
  {
   "cell_type": "markdown",
   "id": "9b63cfe6",
   "metadata": {},
   "source": [
    "Q1. Write a Python program to print the number and sum of prime numbers which are less than or equal to a given number."
   ]
  },
  {
   "cell_type": "code",
   "execution_count": 1,
   "id": "8c8374ca",
   "metadata": {},
   "outputs": [
    {
     "name": "stdout",
     "output_type": "stream",
     "text": [
      "Prime numbers less than 5: \n",
      "[2, 3, 5]\n",
      "Sum of prime numbers less than or equal to 5:\n",
      "10\n"
     ]
    }
   ],
   "source": [
    "import sympy\n",
    "\n",
    "def prime_sum(n):\n",
    "    primes = []\n",
    "    psum = 0\n",
    "    for i in range(2, n+1):\n",
    "        if sympy.isprime(i):\n",
    "            primes.append(i)\n",
    "            psum += i\n",
    "    print(\"Prime numbers less than \" + str(n) + \": \")\n",
    "    print(primes)\n",
    "    print(\"Sum of prime numbers less than or equal to \" + str(n) + \":\\n\" + str(psum))\n",
    "\n",
    "prime_sum(5)"
   ]
  },
  {
   "cell_type": "markdown",
   "id": "30d8351a",
   "metadata": {},
   "source": [
    "Q2. Write a Python program to find the largest product of the pair of adjacent elements from a given list of integers."
   ]
  },
  {
   "cell_type": "code",
   "execution_count": 3,
   "id": "75319cc3",
   "metadata": {},
   "outputs": [
    {
     "name": "stdout",
     "output_type": "stream",
     "text": [
      "[1, 2, 3, 4, 5, 6]\n",
      "Largest product of pair of adjacent elements of the list is: 30\n"
     ]
    }
   ],
   "source": [
    "def largest_product(nums):\n",
    "    product = 0\n",
    "    for i in range (0, len(nums)-1):\n",
    "        prod = nums[i] * nums[i+1]\n",
    "        if(prod > product):\n",
    "            product = prod\n",
    "    return product\n",
    "nums = [1, 2, 3, 4, 5, 6]\n",
    "print(nums)\n",
    "print(\"Largest product of pair of adjacent elements of the list is: \" + str(largest_product(nums)))"
   ]
  },
  {
   "cell_type": "markdown",
   "id": "09ee1896",
   "metadata": {},
   "source": [
    "Q3. Given a password, we have to categorize it as valid or invalid. There are some checks that need to be met to be a valid password. For a invalid password, we need to return the reason for it to be invalid. \n",
    "\n",
    "- Conditions for a valid password are\n",
    "- Should have at least one number.\n",
    "- Should have at least one uppercase and one lowercase character.\n",
    "- Should have at least one special symbol.\n",
    "- Should be between 6 to 20 characters long."
   ]
  },
  {
   "cell_type": "code",
   "execution_count": 8,
   "id": "6aa3d1ca",
   "metadata": {},
   "outputs": [
    {
     "name": "stdout",
     "output_type": "stream",
     "text": [
      "Passord: Password123@\n",
      "Password valid\n"
     ]
    }
   ],
   "source": [
    "def validate(pwd):\n",
    "    if len(pwd) < 6 or len(pwd) > 20:\n",
    "        return False\n",
    "    num = upper = lower = symbol = False\n",
    "    for i in range(0, len(pwd)):\n",
    "        if pwd[i].isnumeric():\n",
    "            num = True\n",
    "        elif pwd[i].isupper():\n",
    "            upper = True\n",
    "        elif pwd[i].islower():\n",
    "            lower = True\n",
    "        elif not pwd[i].isalnum():\n",
    "            symbol = True\n",
    "    if num and upper and lower and symbol:\n",
    "        return True\n",
    "    return False\n",
    "\n",
    "pwd = \"Password123@\"\n",
    "print(\"Passord: \" + pwd)\n",
    "if validate(pwd):\n",
    "    print(\"Password valid\")\n",
    "else:\n",
    "    print(\"Invalid password!\")"
   ]
  },
  {
   "cell_type": "markdown",
   "id": "8d392112",
   "metadata": {},
   "source": [
    "Q4. Given a password, we have to categorize it as a strong or weak one. There are some checks that need to be met to be a strong password. For a weak password, we need to return the reason for it to be weak.\n",
    "\n",
    "- Conditions to be fulfilled for strong password are:\n",
    "- Minimum 9 characters and maximum 20 characters.\n",
    "- Cannot be a newline or a space\n",
    "- There should not be three or more repeating characters in a row.\n",
    "- The same string pattern(minimum of two character length) should not be repeated."
   ]
  },
  {
   "cell_type": "code",
   "execution_count": 9,
   "id": "75e58b96",
   "metadata": {},
   "outputs": [
    {
     "name": "stdout",
     "output_type": "stream",
     "text": [
      "Weak password (too short)\n",
      "Weak password (contains new line or a space)\n",
      "Weak password (contains new line or a space)\n",
      "Weak password (too many repeating characters in a row)\n",
      "Weak passwword (string pattern repeated)\n",
      "Strong password!\n"
     ]
    }
   ],
   "source": [
    "def pwd_strength(pwd):\n",
    "    if len(pwd) < 9:\n",
    "        print(\"Weak password \" + '(' + 'too short' + ')')\n",
    "        return\n",
    "    elif len(pwd) > 20:\n",
    "        print(\"Weak password \" + '(' + 'too long' + ')')\n",
    "        return\n",
    "    elif \"\\n\" in pwd or \" \" in pwd:\n",
    "        print(\"Weak password \" + '(' + 'contains new line or a space' + ')')\n",
    "        return\n",
    "    for i in range(0, len(pwd)-1):\n",
    "        if pwd[i] == pwd[i+1] and pwd[i] == pwd[i+2]:\n",
    "            print(\"Weak password \" + '(' + 'too many repeating characters in a row' + ')')\n",
    "            return\n",
    "    for i in range(0, len(pwd)):\n",
    "        for j in range(i+1, len(pwd)):\n",
    "            if pwd[i:j+1] in pwd[j+1:]:\n",
    "                print(\"Weak passwword \" + '(' + 'string pattern repeated' + ')')\n",
    "                return\n",
    "    print(\"Strong password!\")\n",
    "    return\n",
    "\n",
    "pwd_strength(\"12345\")\n",
    "pwd_strength(\"the password\")\n",
    "pwd_strength(\"the\\npassword\")\n",
    "pwd_strength(\"123451112345\")\n",
    "pwd_strength(\"AB123456AB\")\n",
    "pwd_strength(\"good_password\")"
   ]
  },
  {
   "cell_type": "markdown",
   "id": "97603f34",
   "metadata": {},
   "source": [
    "**Python for Data Science**"
   ]
  },
  {
   "cell_type": "markdown",
   "id": "309401fa",
   "metadata": {},
   "source": [
    "Q1. Write Python code to read in all the columns (as a DataFrame) of the file cities.csv  Download cities.csv. Print the content of the columns and also the shape of the dataframe [4 Points] "
   ]
  },
  {
   "cell_type": "code",
   "execution_count": 10,
   "id": "74a78d8f",
   "metadata": {
    "scrolled": true
   },
   "outputs": [
    {
     "name": "stdout",
     "output_type": "stream",
     "text": [
      "Dataframe contents:\n",
      "     LatD  LatM  LatS    NS  LonD  LonM  LonS    EW                City State\n",
      "0      41     5    59   \"N\"    80    39     0   \"W\"        \"Youngstown\"    OH\n",
      "1      42    52    48   \"N\"    97    23    23   \"W\"           \"Yankton\"    SD\n",
      "2      46    35    59   \"N\"   120    30    36   \"W\"            \"Yakima\"    WA\n",
      "3      42    16    12   \"N\"    71    48     0   \"W\"         \"Worcester\"    MA\n",
      "4      43    37    48   \"N\"    89    46    11   \"W\"   \"Wisconsin Dells\"    WI\n",
      "..    ...   ...   ...   ...   ...   ...   ...   ...                 ...   ...\n",
      "123    39    31    12   \"N\"   119    48    35   \"W\"              \"Reno\"    NV\n",
      "124    50    25    11   \"N\"   104    39     0   \"W\"            \"Regina\"    SA\n",
      "125    40    10    48   \"N\"   122    14    23   \"W\"         \"Red Bluff\"    CA\n",
      "126    40    19    48   \"N\"    75    55    48   \"W\"           \"Reading\"    PA\n",
      "127    41     9    35   \"N\"    81    14    23   \"W\"           \"Ravenna\"   OH \n",
      "\n",
      "[128 rows x 10 columns]\n",
      "\n",
      "Dataframe Shape:\n",
      "(128, 10)\n"
     ]
    }
   ],
   "source": [
    "import pandas as pd\n",
    "\n",
    "df = pd.read_csv('cities.csv')\n",
    "#df.columns = ['LatD','LatM','LatS','NS','LonD','LonM','LonS','EW','City','State']\n",
    "print('Dataframe contents:')\n",
    "print(df)\n",
    "print('\\nDataframe Shape:')\n",
    "print(df.shape)"
   ]
  },
  {
   "cell_type": "markdown",
   "id": "f08df057",
   "metadata": {},
   "source": [
    "Q2. Create a subset of the DataFrame from Q1 in the following way: [6 points]\n",
    "\n",
    "- DataFrame Subset 1: Contains columns LatD,LonD,LatM,LonM and all the rows of the original DataFrame \n",
    "- DataFrame Subset 2: Contains all columns but only first 100 rows of the original DataFrame \n",
    "- DataFrame Subset 3: Contains 2nd, 3rd and 4th column of the original DataFrame and first 10 rows "
   ]
  },
  {
   "cell_type": "code",
   "execution_count": 17,
   "id": "3f73b8df",
   "metadata": {},
   "outputs": [
    {
     "name": "stdout",
     "output_type": "stream",
     "text": [
      "Subset1:\n",
      "     LatD  LonD  LatM  LonM\n",
      "0      41    80     5    39\n",
      "1      42    97    52    23\n",
      "2      46   120    35    30\n",
      "3      42    71    16    48\n",
      "4      43    89    37    46\n",
      "..    ...   ...   ...   ...\n",
      "123    39   119    31    48\n",
      "124    50   104    25    39\n",
      "125    40   122    10    14\n",
      "126    40    75    19    55\n",
      "127    41    81     9    14\n",
      "\n",
      "[128 rows x 4 columns]\n",
      "Subset2:\n",
      "    LatD  LatM  LatS    NS  LonD  LonM  LonS    EW                City State\n",
      "0     41     5    59   \"N\"    80    39     0   \"W\"        \"Youngstown\"    OH\n",
      "1     42    52    48   \"N\"    97    23    23   \"W\"           \"Yankton\"    SD\n",
      "2     46    35    59   \"N\"   120    30    36   \"W\"            \"Yakima\"    WA\n",
      "3     42    16    12   \"N\"    71    48     0   \"W\"         \"Worcester\"    MA\n",
      "4     43    37    48   \"N\"    89    46    11   \"W\"   \"Wisconsin Dells\"    WI\n",
      "..   ...   ...   ...   ...   ...   ...   ...   ...                 ...   ...\n",
      "95    31    27    35   \"N\"   100    26    24   \"W\"        \"San Angelo\"    TX\n",
      "96    40    45    35   \"N\"   111    52    47   \"W\"    \"Salt Lake City\"    UT\n",
      "97    38    22    11   \"N\"    75    35    59   \"W\"         \"Salisbury\"    MD\n",
      "98    36    40    11   \"N\"   121    39     0   \"W\"           \"Salinas\"    CA\n",
      "99    38    50    24   \"N\"    97    36    36   \"W\"            \"Salina\"    KS\n",
      "\n",
      "[100 rows x 10 columns]\n",
      "Subset3:\n",
      "   LatM  LatS    NS\n",
      "0     5    59   \"N\"\n",
      "1    52    48   \"N\"\n",
      "2    35    59   \"N\"\n",
      "3    16    12   \"N\"\n",
      "4    37    48   \"N\"\n",
      "5     5    59   \"N\"\n",
      "6    52    48   \"N\"\n",
      "7    11    23   \"N\"\n",
      "8    14    24   \"N\"\n",
      "9    45     0   \"N\"\n"
     ]
    }
   ],
   "source": [
    "subset1 = df[['LatD', 'LonD', 'LatM', 'LonM']]\n",
    "print(\"Subset1:\")\n",
    "print(subset1)\n",
    "\n",
    "subset2 = df.loc[0:99]\n",
    "print(\"Subset2:\")\n",
    "print(subset2)\n",
    "\n",
    "subset3 = df.iloc[0:10,1:4]\n",
    "print(\"Subset3:\")\n",
    "print(subset3)"
   ]
  },
  {
   "cell_type": "markdown",
   "id": "86cc7ffa",
   "metadata": {},
   "source": [
    "Q3. Write a Python code to read specific columns (LatD,LonD and City) and (LatM, LonM and State) of a CSV file (cities.csv  Download cities.csv) and print the content of the columns. Also print the 'type' of data in each of the columns  [5 points]"
   ]
  },
  {
   "cell_type": "code",
   "execution_count": 18,
   "id": "06bcb786",
   "metadata": {},
   "outputs": [
    {
     "name": "stdout",
     "output_type": "stream",
     "text": [
      "     LatD  LonD                City\n",
      "0      41    80        \"Youngstown\"\n",
      "1      42    97           \"Yankton\"\n",
      "2      46   120            \"Yakima\"\n",
      "3      42    71         \"Worcester\"\n",
      "4      43    89   \"Wisconsin Dells\"\n",
      "..    ...   ...                 ...\n",
      "123    39   119              \"Reno\"\n",
      "124    50   104            \"Regina\"\n",
      "125    40   122         \"Red Bluff\"\n",
      "126    40    75           \"Reading\"\n",
      "127    41    81           \"Ravenna\"\n",
      "\n",
      "[128 rows x 3 columns]\n",
      "LatD     int64\n",
      "LonD     int64\n",
      "City    object\n",
      "dtype: object\n",
      "     LatM  LonM State\n",
      "0       5    39    OH\n",
      "1      52    23    SD\n",
      "2      35    30    WA\n",
      "3      16    48    MA\n",
      "4      37    46    WI\n",
      "..    ...   ...   ...\n",
      "123    31    48    NV\n",
      "124    25    39    SA\n",
      "125    10    14    CA\n",
      "126    19    55    PA\n",
      "127     9    14   OH \n",
      "\n",
      "[128 rows x 3 columns]\n",
      "LatM      int64\n",
      "LonM      int64\n",
      "State    object\n",
      "dtype: object\n"
     ]
    }
   ],
   "source": [
    "df1 = pd.read_csv('cities.csv', usecols = ['LatD', 'LonD', 'City'])\n",
    "print(df1)\n",
    "print(df1.dtypes)\n",
    "\n",
    "df2 = pd.read_csv('cities.csv', usecols = ['LatM', 'LonM', 'State'])\n",
    "print(df2)\n",
    "print(df2.dtypes)"
   ]
  },
  {
   "cell_type": "markdown",
   "id": "73e0d04b",
   "metadata": {},
   "source": [
    "Q4. Write a Python code to write a Python list of lists (list_of_list.pkl  Download list_of_list.pkl) to a csv file. After writing the CSV file, read the CSV file and display the content. [10 points]\n",
    "\n",
    "[Hint - Use pickle to import the .pkl file\n",
    "\n",
    "with open(\"list_of_list.pkl\", \"rb\") as fp:   \n",
    "\n",
    "   b = pickle.load(fp)\n",
    "\n",
    "]"
   ]
  },
  {
   "cell_type": "code",
   "execution_count": 21,
   "id": "8740eba9",
   "metadata": {},
   "outputs": [
    {
     "name": "stdout",
     "output_type": "stream",
     "text": [
      "                             0          1       2        3               4  \\\n",
      "0               competitorname  chocolate  fruity  caramel  peanutyalmondy   \n",
      "1                  Mr Good Bar          y       n        n               y   \n",
      "2   Chewey Lemonhead Fruit Mix          n       y        n               n   \n",
      "3                    Starburst          n       y        n               n   \n",
      "4                   Gobstopper          n       y        n               n   \n",
      "..                         ...        ...     ...      ...             ...   \n",
      "81          Caramel Apple Pops          n       y        y               n   \n",
      "82                     Fun Dip          n       y        n               n   \n",
      "83                       Runts          n       y        n               n   \n",
      "84                        Dots          n       y        n               n   \n",
      "85                    Snickers          y       n        y               y   \n",
      "\n",
      "         5                 6     7    8         9            10            11  \\\n",
      "0   nougat  crispedricewafer  hard  bar  pluribus  sugarpercent  pricepercent   \n",
      "1        n                 n     n    y         n     .31299999     .91799998   \n",
      "2        n                 n     n    n         y     .73199999     .51099998   \n",
      "3        n                 n     n    n         y     .15099999           .22   \n",
      "4        n                 n     y    n         y     .90600002     .45300001   \n",
      "..     ...               ...   ...  ...       ...           ...           ...   \n",
      "81       n                 n     n    n         n     .60399997     .32499999   \n",
      "82       n                 n     y    n         n     .73199999     .32499999   \n",
      "83       n                 n     y    n         y     .87199998     .27900001   \n",
      "84       n                 n     n    n         y     .73199999     .51099998   \n",
      "85       y                 n     n    y         n          .546     .65100002   \n",
      "\n",
      "            12  \n",
      "0   winpercent  \n",
      "1    54.526451  \n",
      "2    36.017628  \n",
      "3    67.037628  \n",
      "4    46.783348  \n",
      "..         ...  \n",
      "81   34.517681  \n",
      "82   39.185505  \n",
      "83   42.849144  \n",
      "84   42.272076  \n",
      "85   76.673782  \n",
      "\n",
      "[86 rows x 13 columns]\n"
     ]
    }
   ],
   "source": [
    "import pickle as pkl\n",
    "\n",
    "with open(\"list_of_list.pkl\", \"rb\") as fp:\n",
    "    b = pkl.load(fp)\n",
    "\n",
    "df3 = pd.DataFrame(b)\n",
    "#print(df3)\n",
    "df3.to_csv(r'list_of_list.csv', index = False)\n",
    "df4 = pd.read_csv('list_of_list.csv', index_col = False)\n",
    "print(df4)"
   ]
  },
  {
   "cell_type": "markdown",
   "id": "4f1685cf",
   "metadata": {},
   "source": [
    "Q5. Write a Python program to convert a Python DataFrame to a dictionary object.  [5 points]\n",
    "\n",
    "Contents of the DataFrame:\n",
    "\n",
    "    C1  C2  C3\n",
    "\n",
    "R1   1   2   3\n",
    "\n",
    "R2   4   5   6\n",
    "\n",
    "R3   7   8   9\n",
    "\n",
    "DataFrame as a dictionary:\n",
    "\n",
    "{'C1': {'R1': 1, 'R2': 4, 'R3': 7}, 'C2': {'R1': 2, 'R2': 5, 'R3': 8}, 'C3': {'R1': 3, 'R2': 6, 'R3': 9}}"
   ]
  },
  {
   "cell_type": "code",
   "execution_count": 22,
   "id": "9cf6df80",
   "metadata": {},
   "outputs": [
    {
     "name": "stdout",
     "output_type": "stream",
     "text": [
      "    C1  C2  C3\n",
      "R1   1   2   3\n",
      "R2   4   5   6\n",
      "R3   7   8   9\n",
      "{'C1': {'R1': 1, 'R2': 4, 'R3': 7}, 'C2': {'R1': 2, 'R2': 5, 'R3': 8}, 'C3': {'R1': 3, 'R2': 6, 'R3': 9}}\n"
     ]
    }
   ],
   "source": [
    "data = [[1,2,3],\n",
    "        [4,5,6],\n",
    "        [7,8,9]]\n",
    "df = pd.DataFrame(data, index = ['R1','R2','R3'], columns = ['C1','C2','C3'])\n",
    "print(df)\n",
    "\n",
    "dictionary = df.to_dict();\n",
    "print(dictionary);"
   ]
  },
  {
   "cell_type": "markdown",
   "id": "e4bc2a4c",
   "metadata": {},
   "source": [
    "Q6. You are given a text file containing a string of words and you need to write a function to find words with a certain number of characters in the given text file. The length of the word will be the parameter of the function and will be given by the user. Remove duplicate words from the final list. [HINT - Take a look at split(), lower(), open() and input() functions in python] \n",
    "\n",
    "[USE Data Science.txt  Download Data Science.txt] [10 points]\n",
    "\n",
    "EX - The length of the word will be the parameter of the function and will be given by the user.\n",
    "\n",
    "The length of word provided by user - 4\n",
    "Output - \n",
    "\n",
    "word\n",
    "\n",
    "will\n",
    "\n",
    "User\n",
    "\n",
    "The length of word provided by user - 3\n",
    "Output - \n",
    "\n",
    "The\n",
    "\n",
    "and\n",
    "\n",
    "[“The” and “the” are the same]"
   ]
  },
  {
   "cell_type": "code",
   "execution_count": 23,
   "id": "5fe76a41",
   "metadata": {},
   "outputs": [
    {
     "name": "stdout",
     "output_type": "stream",
     "text": [
      "Enter the length of the words you would like to search for:\n",
      "3\n"
     ]
    },
    {
     "data": {
      "text/plain": [
       "{'and', 'big', 'jim', 'now', 'the'}"
      ]
     },
     "execution_count": 23,
     "metadata": {},
     "output_type": "execute_result"
    }
   ],
   "source": [
    "import re\n",
    "import string\n",
    "\n",
    "pattern = r'[' + string.punctuation + ']'\n",
    "filename = \"Data Science.txt\"\n",
    "\n",
    "def find_words_with_length(filename):\n",
    "    file = open(filename, \"r\")\n",
    "    text = file.read()\n",
    "    text = re.sub(pattern, '', text)\n",
    "    text = text.lower()\n",
    "    words = text.split()\n",
    "    print(\"Enter the length of the words you would like to search for:\")\n",
    "    length = int(input())\n",
    "    answer = set()\n",
    "    for word in words:\n",
    "        if len(word) == length:\n",
    "            answer.add(word)\n",
    "    return answer\n",
    "find_words_with_length(filename)"
   ]
  },
  {
   "cell_type": "markdown",
   "id": "0f03f0ad",
   "metadata": {},
   "source": [
    "**Regular Expressions**"
   ]
  },
  {
   "cell_type": "markdown",
   "id": "13e473dd",
   "metadata": {},
   "source": [
    "Q1. Write a Python program that matches a word containing 'z', not at the start or end of the word. [5 points]"
   ]
  },
  {
   "cell_type": "code",
   "execution_count": 24,
   "id": "dd8963cf",
   "metadata": {},
   "outputs": [
    {
     "name": "stdout",
     "output_type": "stream",
     "text": [
      "None\n",
      "<re.Match object; span=(0, 6), match='brazil'>\n"
     ]
    }
   ],
   "source": [
    "invalid = \"zlllllllz\"\n",
    "match = re.search(\"[a-yA-Z]+z[a-yA-Z]+\", invalid)\n",
    "print(match)\n",
    "\n",
    "valid = \"brazil\"\n",
    "match = re.search(\"[a-yA-Z]+z[a-yA-Z]+\", valid)\n",
    "print(match)"
   ]
  },
  {
   "cell_type": "markdown",
   "id": "0c464b97",
   "metadata": {},
   "source": [
    "Q2. You are given a list of courses of a student: [5 points]\n",
    "\n",
    "- CSCI 10\n",
    "- MATH 9\n",
    "- MATH 11\n",
    "- CSCI 60\n",
    "- CSCI 182\n",
    "\n",
    "Write a python program that helps you to find the CSCI courses that the student has taken. Need to find the code and number. "
   ]
  },
  {
   "cell_type": "code",
   "execution_count": 25,
   "id": "33336c4f",
   "metadata": {},
   "outputs": [
    {
     "name": "stdout",
     "output_type": "stream",
     "text": [
      "['CSCI 10', 'CSCI 60', 'CSCI 182']\n"
     ]
    }
   ],
   "source": [
    "courses = ['CSCI 10', 'MATH 9', 'MATH 11', 'CSCI 60', 'CSCI 182']\n",
    "only_CSCI = []\n",
    "for course in courses:\n",
    "    match = re.match(\"CSCI\\s(\\d)+\", course)\n",
    "    if match:\n",
    "        only_CSCI.append(match.group(0))\n",
    "print(only_CSCI)"
   ]
  },
  {
   "cell_type": "code",
   "execution_count": null,
   "id": "43600f29",
   "metadata": {},
   "outputs": [],
   "source": []
  }
 ],
 "metadata": {
  "kernelspec": {
   "display_name": "Python 3 (ipykernel)",
   "language": "python",
   "name": "python3"
  },
  "language_info": {
   "codemirror_mode": {
    "name": "ipython",
    "version": 3
   },
   "file_extension": ".py",
   "mimetype": "text/x-python",
   "name": "python",
   "nbconvert_exporter": "python",
   "pygments_lexer": "ipython3",
   "version": "3.9.7"
  }
 },
 "nbformat": 4,
 "nbformat_minor": 5
}
