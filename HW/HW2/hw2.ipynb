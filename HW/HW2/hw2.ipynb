{
 "cells": [
  {
   "cell_type": "markdown",
   "id": "17717d7e",
   "metadata": {},
   "source": [
    "**Loading Dataset**"
   ]
  },
  {
   "cell_type": "code",
   "execution_count": 1,
   "id": "bea6b8c6",
   "metadata": {},
   "outputs": [],
   "source": [
    "import pandas as pd\n",
    "import numpy as np\n",
    "\n",
    "df = pd.read_csv('housing.csv')\n",
    "df2 = pd.read_csv('kc_house_data.csv')"
   ]
  },
  {
   "cell_type": "code",
   "execution_count": 2,
   "id": "47d390af",
   "metadata": {},
   "outputs": [
    {
     "data": {
      "text/html": [
       "<div>\n",
       "<style scoped>\n",
       "    .dataframe tbody tr th:only-of-type {\n",
       "        vertical-align: middle;\n",
       "    }\n",
       "\n",
       "    .dataframe tbody tr th {\n",
       "        vertical-align: top;\n",
       "    }\n",
       "\n",
       "    .dataframe thead th {\n",
       "        text-align: right;\n",
       "    }\n",
       "</style>\n",
       "<table border=\"1\" class=\"dataframe\">\n",
       "  <thead>\n",
       "    <tr style=\"text-align: right;\">\n",
       "      <th></th>\n",
       "      <th>longitude</th>\n",
       "      <th>latitude</th>\n",
       "      <th>housing_median_age</th>\n",
       "      <th>total_rooms</th>\n",
       "      <th>total_bedrooms</th>\n",
       "      <th>population</th>\n",
       "      <th>households</th>\n",
       "      <th>median_income</th>\n",
       "      <th>median_house_value</th>\n",
       "      <th>ocean_proximity</th>\n",
       "    </tr>\n",
       "  </thead>\n",
       "  <tbody>\n",
       "    <tr>\n",
       "      <th>0</th>\n",
       "      <td>-122.23</td>\n",
       "      <td>37.88</td>\n",
       "      <td>41.0</td>\n",
       "      <td>880.0</td>\n",
       "      <td>129.0</td>\n",
       "      <td>322.0</td>\n",
       "      <td>126.0</td>\n",
       "      <td>8.3252</td>\n",
       "      <td>452600.0</td>\n",
       "      <td>NEAR BAY</td>\n",
       "    </tr>\n",
       "    <tr>\n",
       "      <th>1</th>\n",
       "      <td>-122.22</td>\n",
       "      <td>37.86</td>\n",
       "      <td>21.0</td>\n",
       "      <td>7099.0</td>\n",
       "      <td>1106.0</td>\n",
       "      <td>2401.0</td>\n",
       "      <td>1138.0</td>\n",
       "      <td>8.3014</td>\n",
       "      <td>358500.0</td>\n",
       "      <td>NEAR BAY</td>\n",
       "    </tr>\n",
       "    <tr>\n",
       "      <th>2</th>\n",
       "      <td>-122.24</td>\n",
       "      <td>37.85</td>\n",
       "      <td>52.0</td>\n",
       "      <td>1467.0</td>\n",
       "      <td>190.0</td>\n",
       "      <td>496.0</td>\n",
       "      <td>177.0</td>\n",
       "      <td>7.2574</td>\n",
       "      <td>352100.0</td>\n",
       "      <td>NEAR BAY</td>\n",
       "    </tr>\n",
       "    <tr>\n",
       "      <th>3</th>\n",
       "      <td>-122.25</td>\n",
       "      <td>37.85</td>\n",
       "      <td>52.0</td>\n",
       "      <td>1274.0</td>\n",
       "      <td>235.0</td>\n",
       "      <td>558.0</td>\n",
       "      <td>219.0</td>\n",
       "      <td>5.6431</td>\n",
       "      <td>341300.0</td>\n",
       "      <td>NEAR BAY</td>\n",
       "    </tr>\n",
       "    <tr>\n",
       "      <th>4</th>\n",
       "      <td>-122.25</td>\n",
       "      <td>37.85</td>\n",
       "      <td>52.0</td>\n",
       "      <td>1627.0</td>\n",
       "      <td>280.0</td>\n",
       "      <td>565.0</td>\n",
       "      <td>259.0</td>\n",
       "      <td>3.8462</td>\n",
       "      <td>342200.0</td>\n",
       "      <td>NEAR BAY</td>\n",
       "    </tr>\n",
       "    <tr>\n",
       "      <th>...</th>\n",
       "      <td>...</td>\n",
       "      <td>...</td>\n",
       "      <td>...</td>\n",
       "      <td>...</td>\n",
       "      <td>...</td>\n",
       "      <td>...</td>\n",
       "      <td>...</td>\n",
       "      <td>...</td>\n",
       "      <td>...</td>\n",
       "      <td>...</td>\n",
       "    </tr>\n",
       "    <tr>\n",
       "      <th>20635</th>\n",
       "      <td>-121.09</td>\n",
       "      <td>39.48</td>\n",
       "      <td>25.0</td>\n",
       "      <td>1665.0</td>\n",
       "      <td>374.0</td>\n",
       "      <td>845.0</td>\n",
       "      <td>330.0</td>\n",
       "      <td>1.5603</td>\n",
       "      <td>78100.0</td>\n",
       "      <td>INLAND</td>\n",
       "    </tr>\n",
       "    <tr>\n",
       "      <th>20636</th>\n",
       "      <td>-121.21</td>\n",
       "      <td>39.49</td>\n",
       "      <td>18.0</td>\n",
       "      <td>697.0</td>\n",
       "      <td>150.0</td>\n",
       "      <td>356.0</td>\n",
       "      <td>114.0</td>\n",
       "      <td>2.5568</td>\n",
       "      <td>77100.0</td>\n",
       "      <td>INLAND</td>\n",
       "    </tr>\n",
       "    <tr>\n",
       "      <th>20637</th>\n",
       "      <td>-121.22</td>\n",
       "      <td>39.43</td>\n",
       "      <td>17.0</td>\n",
       "      <td>2254.0</td>\n",
       "      <td>485.0</td>\n",
       "      <td>1007.0</td>\n",
       "      <td>433.0</td>\n",
       "      <td>1.7000</td>\n",
       "      <td>92300.0</td>\n",
       "      <td>INLAND</td>\n",
       "    </tr>\n",
       "    <tr>\n",
       "      <th>20638</th>\n",
       "      <td>-121.32</td>\n",
       "      <td>39.43</td>\n",
       "      <td>18.0</td>\n",
       "      <td>1860.0</td>\n",
       "      <td>409.0</td>\n",
       "      <td>741.0</td>\n",
       "      <td>349.0</td>\n",
       "      <td>1.8672</td>\n",
       "      <td>84700.0</td>\n",
       "      <td>INLAND</td>\n",
       "    </tr>\n",
       "    <tr>\n",
       "      <th>20639</th>\n",
       "      <td>-121.24</td>\n",
       "      <td>39.37</td>\n",
       "      <td>16.0</td>\n",
       "      <td>2785.0</td>\n",
       "      <td>616.0</td>\n",
       "      <td>1387.0</td>\n",
       "      <td>530.0</td>\n",
       "      <td>2.3886</td>\n",
       "      <td>89400.0</td>\n",
       "      <td>INLAND</td>\n",
       "    </tr>\n",
       "  </tbody>\n",
       "</table>\n",
       "<p>20640 rows × 10 columns</p>\n",
       "</div>"
      ],
      "text/plain": [
       "       longitude  latitude  housing_median_age  total_rooms  total_bedrooms  \\\n",
       "0        -122.23     37.88                41.0        880.0           129.0   \n",
       "1        -122.22     37.86                21.0       7099.0          1106.0   \n",
       "2        -122.24     37.85                52.0       1467.0           190.0   \n",
       "3        -122.25     37.85                52.0       1274.0           235.0   \n",
       "4        -122.25     37.85                52.0       1627.0           280.0   \n",
       "...          ...       ...                 ...          ...             ...   \n",
       "20635    -121.09     39.48                25.0       1665.0           374.0   \n",
       "20636    -121.21     39.49                18.0        697.0           150.0   \n",
       "20637    -121.22     39.43                17.0       2254.0           485.0   \n",
       "20638    -121.32     39.43                18.0       1860.0           409.0   \n",
       "20639    -121.24     39.37                16.0       2785.0           616.0   \n",
       "\n",
       "       population  households  median_income  median_house_value  \\\n",
       "0           322.0       126.0         8.3252            452600.0   \n",
       "1          2401.0      1138.0         8.3014            358500.0   \n",
       "2           496.0       177.0         7.2574            352100.0   \n",
       "3           558.0       219.0         5.6431            341300.0   \n",
       "4           565.0       259.0         3.8462            342200.0   \n",
       "...           ...         ...            ...                 ...   \n",
       "20635       845.0       330.0         1.5603             78100.0   \n",
       "20636       356.0       114.0         2.5568             77100.0   \n",
       "20637      1007.0       433.0         1.7000             92300.0   \n",
       "20638       741.0       349.0         1.8672             84700.0   \n",
       "20639      1387.0       530.0         2.3886             89400.0   \n",
       "\n",
       "      ocean_proximity  \n",
       "0            NEAR BAY  \n",
       "1            NEAR BAY  \n",
       "2            NEAR BAY  \n",
       "3            NEAR BAY  \n",
       "4            NEAR BAY  \n",
       "...               ...  \n",
       "20635          INLAND  \n",
       "20636          INLAND  \n",
       "20637          INLAND  \n",
       "20638          INLAND  \n",
       "20639          INLAND  \n",
       "\n",
       "[20640 rows x 10 columns]"
      ]
     },
     "execution_count": 2,
     "metadata": {},
     "output_type": "execute_result"
    }
   ],
   "source": [
    "df"
   ]
  },
  {
   "cell_type": "code",
   "execution_count": 3,
   "id": "3588d931",
   "metadata": {},
   "outputs": [
    {
     "data": {
      "text/html": [
       "<div>\n",
       "<style scoped>\n",
       "    .dataframe tbody tr th:only-of-type {\n",
       "        vertical-align: middle;\n",
       "    }\n",
       "\n",
       "    .dataframe tbody tr th {\n",
       "        vertical-align: top;\n",
       "    }\n",
       "\n",
       "    .dataframe thead th {\n",
       "        text-align: right;\n",
       "    }\n",
       "</style>\n",
       "<table border=\"1\" class=\"dataframe\">\n",
       "  <thead>\n",
       "    <tr style=\"text-align: right;\">\n",
       "      <th></th>\n",
       "      <th>id</th>\n",
       "      <th>date</th>\n",
       "      <th>price</th>\n",
       "      <th>bedrooms</th>\n",
       "      <th>bathrooms</th>\n",
       "      <th>sqft_living</th>\n",
       "      <th>sqft_lot</th>\n",
       "      <th>floors</th>\n",
       "      <th>waterfront</th>\n",
       "      <th>view</th>\n",
       "      <th>...</th>\n",
       "      <th>grade</th>\n",
       "      <th>sqft_above</th>\n",
       "      <th>sqft_basement</th>\n",
       "      <th>yr_built</th>\n",
       "      <th>yr_renovated</th>\n",
       "      <th>zipcode</th>\n",
       "      <th>lat</th>\n",
       "      <th>long</th>\n",
       "      <th>sqft_living15</th>\n",
       "      <th>sqft_lot15</th>\n",
       "    </tr>\n",
       "  </thead>\n",
       "  <tbody>\n",
       "    <tr>\n",
       "      <th>0</th>\n",
       "      <td>7129300520</td>\n",
       "      <td>20141013T000000</td>\n",
       "      <td>221900.0</td>\n",
       "      <td>3</td>\n",
       "      <td>1.00</td>\n",
       "      <td>1180</td>\n",
       "      <td>5650</td>\n",
       "      <td>1.0</td>\n",
       "      <td>0</td>\n",
       "      <td>0</td>\n",
       "      <td>...</td>\n",
       "      <td>7</td>\n",
       "      <td>1180</td>\n",
       "      <td>0</td>\n",
       "      <td>1955</td>\n",
       "      <td>0</td>\n",
       "      <td>98178</td>\n",
       "      <td>47.5112</td>\n",
       "      <td>-122.257</td>\n",
       "      <td>1340</td>\n",
       "      <td>5650</td>\n",
       "    </tr>\n",
       "    <tr>\n",
       "      <th>1</th>\n",
       "      <td>6414100192</td>\n",
       "      <td>20141209T000000</td>\n",
       "      <td>538000.0</td>\n",
       "      <td>3</td>\n",
       "      <td>2.25</td>\n",
       "      <td>2570</td>\n",
       "      <td>7242</td>\n",
       "      <td>2.0</td>\n",
       "      <td>0</td>\n",
       "      <td>0</td>\n",
       "      <td>...</td>\n",
       "      <td>7</td>\n",
       "      <td>2170</td>\n",
       "      <td>400</td>\n",
       "      <td>1951</td>\n",
       "      <td>1991</td>\n",
       "      <td>98125</td>\n",
       "      <td>47.7210</td>\n",
       "      <td>-122.319</td>\n",
       "      <td>1690</td>\n",
       "      <td>7639</td>\n",
       "    </tr>\n",
       "    <tr>\n",
       "      <th>2</th>\n",
       "      <td>5631500400</td>\n",
       "      <td>20150225T000000</td>\n",
       "      <td>180000.0</td>\n",
       "      <td>2</td>\n",
       "      <td>1.00</td>\n",
       "      <td>770</td>\n",
       "      <td>10000</td>\n",
       "      <td>1.0</td>\n",
       "      <td>0</td>\n",
       "      <td>0</td>\n",
       "      <td>...</td>\n",
       "      <td>6</td>\n",
       "      <td>770</td>\n",
       "      <td>0</td>\n",
       "      <td>1933</td>\n",
       "      <td>0</td>\n",
       "      <td>98028</td>\n",
       "      <td>47.7379</td>\n",
       "      <td>-122.233</td>\n",
       "      <td>2720</td>\n",
       "      <td>8062</td>\n",
       "    </tr>\n",
       "    <tr>\n",
       "      <th>3</th>\n",
       "      <td>2487200875</td>\n",
       "      <td>20141209T000000</td>\n",
       "      <td>604000.0</td>\n",
       "      <td>4</td>\n",
       "      <td>3.00</td>\n",
       "      <td>1960</td>\n",
       "      <td>5000</td>\n",
       "      <td>1.0</td>\n",
       "      <td>0</td>\n",
       "      <td>0</td>\n",
       "      <td>...</td>\n",
       "      <td>7</td>\n",
       "      <td>1050</td>\n",
       "      <td>910</td>\n",
       "      <td>1965</td>\n",
       "      <td>0</td>\n",
       "      <td>98136</td>\n",
       "      <td>47.5208</td>\n",
       "      <td>-122.393</td>\n",
       "      <td>1360</td>\n",
       "      <td>5000</td>\n",
       "    </tr>\n",
       "    <tr>\n",
       "      <th>4</th>\n",
       "      <td>1954400510</td>\n",
       "      <td>20150218T000000</td>\n",
       "      <td>510000.0</td>\n",
       "      <td>3</td>\n",
       "      <td>2.00</td>\n",
       "      <td>1680</td>\n",
       "      <td>8080</td>\n",
       "      <td>1.0</td>\n",
       "      <td>0</td>\n",
       "      <td>0</td>\n",
       "      <td>...</td>\n",
       "      <td>8</td>\n",
       "      <td>1680</td>\n",
       "      <td>0</td>\n",
       "      <td>1987</td>\n",
       "      <td>0</td>\n",
       "      <td>98074</td>\n",
       "      <td>47.6168</td>\n",
       "      <td>-122.045</td>\n",
       "      <td>1800</td>\n",
       "      <td>7503</td>\n",
       "    </tr>\n",
       "    <tr>\n",
       "      <th>...</th>\n",
       "      <td>...</td>\n",
       "      <td>...</td>\n",
       "      <td>...</td>\n",
       "      <td>...</td>\n",
       "      <td>...</td>\n",
       "      <td>...</td>\n",
       "      <td>...</td>\n",
       "      <td>...</td>\n",
       "      <td>...</td>\n",
       "      <td>...</td>\n",
       "      <td>...</td>\n",
       "      <td>...</td>\n",
       "      <td>...</td>\n",
       "      <td>...</td>\n",
       "      <td>...</td>\n",
       "      <td>...</td>\n",
       "      <td>...</td>\n",
       "      <td>...</td>\n",
       "      <td>...</td>\n",
       "      <td>...</td>\n",
       "      <td>...</td>\n",
       "    </tr>\n",
       "    <tr>\n",
       "      <th>21608</th>\n",
       "      <td>263000018</td>\n",
       "      <td>20140521T000000</td>\n",
       "      <td>360000.0</td>\n",
       "      <td>3</td>\n",
       "      <td>2.50</td>\n",
       "      <td>1530</td>\n",
       "      <td>1131</td>\n",
       "      <td>3.0</td>\n",
       "      <td>0</td>\n",
       "      <td>0</td>\n",
       "      <td>...</td>\n",
       "      <td>8</td>\n",
       "      <td>1530</td>\n",
       "      <td>0</td>\n",
       "      <td>2009</td>\n",
       "      <td>0</td>\n",
       "      <td>98103</td>\n",
       "      <td>47.6993</td>\n",
       "      <td>-122.346</td>\n",
       "      <td>1530</td>\n",
       "      <td>1509</td>\n",
       "    </tr>\n",
       "    <tr>\n",
       "      <th>21609</th>\n",
       "      <td>6600060120</td>\n",
       "      <td>20150223T000000</td>\n",
       "      <td>400000.0</td>\n",
       "      <td>4</td>\n",
       "      <td>2.50</td>\n",
       "      <td>2310</td>\n",
       "      <td>5813</td>\n",
       "      <td>2.0</td>\n",
       "      <td>0</td>\n",
       "      <td>0</td>\n",
       "      <td>...</td>\n",
       "      <td>8</td>\n",
       "      <td>2310</td>\n",
       "      <td>0</td>\n",
       "      <td>2014</td>\n",
       "      <td>0</td>\n",
       "      <td>98146</td>\n",
       "      <td>47.5107</td>\n",
       "      <td>-122.362</td>\n",
       "      <td>1830</td>\n",
       "      <td>7200</td>\n",
       "    </tr>\n",
       "    <tr>\n",
       "      <th>21610</th>\n",
       "      <td>1523300141</td>\n",
       "      <td>20140623T000000</td>\n",
       "      <td>402101.0</td>\n",
       "      <td>2</td>\n",
       "      <td>0.75</td>\n",
       "      <td>1020</td>\n",
       "      <td>1350</td>\n",
       "      <td>2.0</td>\n",
       "      <td>0</td>\n",
       "      <td>0</td>\n",
       "      <td>...</td>\n",
       "      <td>7</td>\n",
       "      <td>1020</td>\n",
       "      <td>0</td>\n",
       "      <td>2009</td>\n",
       "      <td>0</td>\n",
       "      <td>98144</td>\n",
       "      <td>47.5944</td>\n",
       "      <td>-122.299</td>\n",
       "      <td>1020</td>\n",
       "      <td>2007</td>\n",
       "    </tr>\n",
       "    <tr>\n",
       "      <th>21611</th>\n",
       "      <td>291310100</td>\n",
       "      <td>20150116T000000</td>\n",
       "      <td>400000.0</td>\n",
       "      <td>3</td>\n",
       "      <td>2.50</td>\n",
       "      <td>1600</td>\n",
       "      <td>2388</td>\n",
       "      <td>2.0</td>\n",
       "      <td>0</td>\n",
       "      <td>0</td>\n",
       "      <td>...</td>\n",
       "      <td>8</td>\n",
       "      <td>1600</td>\n",
       "      <td>0</td>\n",
       "      <td>2004</td>\n",
       "      <td>0</td>\n",
       "      <td>98027</td>\n",
       "      <td>47.5345</td>\n",
       "      <td>-122.069</td>\n",
       "      <td>1410</td>\n",
       "      <td>1287</td>\n",
       "    </tr>\n",
       "    <tr>\n",
       "      <th>21612</th>\n",
       "      <td>1523300157</td>\n",
       "      <td>20141015T000000</td>\n",
       "      <td>325000.0</td>\n",
       "      <td>2</td>\n",
       "      <td>0.75</td>\n",
       "      <td>1020</td>\n",
       "      <td>1076</td>\n",
       "      <td>2.0</td>\n",
       "      <td>0</td>\n",
       "      <td>0</td>\n",
       "      <td>...</td>\n",
       "      <td>7</td>\n",
       "      <td>1020</td>\n",
       "      <td>0</td>\n",
       "      <td>2008</td>\n",
       "      <td>0</td>\n",
       "      <td>98144</td>\n",
       "      <td>47.5941</td>\n",
       "      <td>-122.299</td>\n",
       "      <td>1020</td>\n",
       "      <td>1357</td>\n",
       "    </tr>\n",
       "  </tbody>\n",
       "</table>\n",
       "<p>21613 rows × 21 columns</p>\n",
       "</div>"
      ],
      "text/plain": [
       "               id             date     price  bedrooms  bathrooms  \\\n",
       "0      7129300520  20141013T000000  221900.0         3       1.00   \n",
       "1      6414100192  20141209T000000  538000.0         3       2.25   \n",
       "2      5631500400  20150225T000000  180000.0         2       1.00   \n",
       "3      2487200875  20141209T000000  604000.0         4       3.00   \n",
       "4      1954400510  20150218T000000  510000.0         3       2.00   \n",
       "...           ...              ...       ...       ...        ...   \n",
       "21608   263000018  20140521T000000  360000.0         3       2.50   \n",
       "21609  6600060120  20150223T000000  400000.0         4       2.50   \n",
       "21610  1523300141  20140623T000000  402101.0         2       0.75   \n",
       "21611   291310100  20150116T000000  400000.0         3       2.50   \n",
       "21612  1523300157  20141015T000000  325000.0         2       0.75   \n",
       "\n",
       "       sqft_living  sqft_lot  floors  waterfront  view  ...  grade  \\\n",
       "0             1180      5650     1.0           0     0  ...      7   \n",
       "1             2570      7242     2.0           0     0  ...      7   \n",
       "2              770     10000     1.0           0     0  ...      6   \n",
       "3             1960      5000     1.0           0     0  ...      7   \n",
       "4             1680      8080     1.0           0     0  ...      8   \n",
       "...            ...       ...     ...         ...   ...  ...    ...   \n",
       "21608         1530      1131     3.0           0     0  ...      8   \n",
       "21609         2310      5813     2.0           0     0  ...      8   \n",
       "21610         1020      1350     2.0           0     0  ...      7   \n",
       "21611         1600      2388     2.0           0     0  ...      8   \n",
       "21612         1020      1076     2.0           0     0  ...      7   \n",
       "\n",
       "       sqft_above  sqft_basement  yr_built  yr_renovated  zipcode      lat  \\\n",
       "0            1180              0      1955             0    98178  47.5112   \n",
       "1            2170            400      1951          1991    98125  47.7210   \n",
       "2             770              0      1933             0    98028  47.7379   \n",
       "3            1050            910      1965             0    98136  47.5208   \n",
       "4            1680              0      1987             0    98074  47.6168   \n",
       "...           ...            ...       ...           ...      ...      ...   \n",
       "21608        1530              0      2009             0    98103  47.6993   \n",
       "21609        2310              0      2014             0    98146  47.5107   \n",
       "21610        1020              0      2009             0    98144  47.5944   \n",
       "21611        1600              0      2004             0    98027  47.5345   \n",
       "21612        1020              0      2008             0    98144  47.5941   \n",
       "\n",
       "          long  sqft_living15  sqft_lot15  \n",
       "0     -122.257           1340        5650  \n",
       "1     -122.319           1690        7639  \n",
       "2     -122.233           2720        8062  \n",
       "3     -122.393           1360        5000  \n",
       "4     -122.045           1800        7503  \n",
       "...        ...            ...         ...  \n",
       "21608 -122.346           1530        1509  \n",
       "21609 -122.362           1830        7200  \n",
       "21610 -122.299           1020        2007  \n",
       "21611 -122.069           1410        1287  \n",
       "21612 -122.299           1020        1357  \n",
       "\n",
       "[21613 rows x 21 columns]"
      ]
     },
     "execution_count": 3,
     "metadata": {},
     "output_type": "execute_result"
    }
   ],
   "source": [
    "df2"
   ]
  },
  {
   "cell_type": "markdown",
   "id": "68ec008d",
   "metadata": {},
   "source": [
    "**Finding Datatypes of Each Column**"
   ]
  },
  {
   "cell_type": "code",
   "execution_count": 4,
   "id": "3f7015bd",
   "metadata": {},
   "outputs": [
    {
     "name": "stdout",
     "output_type": "stream",
     "text": [
      "longitude             float64\n",
      "latitude              float64\n",
      "housing_median_age    float64\n",
      "total_rooms           float64\n",
      "total_bedrooms        float64\n",
      "population            float64\n",
      "households            float64\n",
      "median_income         float64\n",
      "median_house_value    float64\n",
      "ocean_proximity        object\n",
      "dtype: object\n"
     ]
    }
   ],
   "source": [
    "datatypes1 = df.dtypes\n",
    "print(datatypes1)"
   ]
  },
  {
   "cell_type": "code",
   "execution_count": 5,
   "id": "b31d7089",
   "metadata": {},
   "outputs": [
    {
     "name": "stdout",
     "output_type": "stream",
     "text": [
      "id                 int64\n",
      "date              object\n",
      "price            float64\n",
      "bedrooms           int64\n",
      "bathrooms        float64\n",
      "sqft_living        int64\n",
      "sqft_lot           int64\n",
      "floors           float64\n",
      "waterfront         int64\n",
      "view               int64\n",
      "condition          int64\n",
      "grade              int64\n",
      "sqft_above         int64\n",
      "sqft_basement      int64\n",
      "yr_built           int64\n",
      "yr_renovated       int64\n",
      "zipcode            int64\n",
      "lat              float64\n",
      "long             float64\n",
      "sqft_living15      int64\n",
      "sqft_lot15         int64\n",
      "dtype: object\n"
     ]
    }
   ],
   "source": [
    "datatypes2 = df2.dtypes\n",
    "print(datatypes2)"
   ]
  },
  {
   "cell_type": "markdown",
   "id": "2ab53185",
   "metadata": {},
   "source": [
    "**Find Names of Each Column**"
   ]
  },
  {
   "cell_type": "code",
   "execution_count": 6,
   "id": "02c82d30",
   "metadata": {},
   "outputs": [
    {
     "name": "stdout",
     "output_type": "stream",
     "text": [
      "Index(['longitude', 'latitude', 'housing_median_age', 'total_rooms',\n",
      "       'total_bedrooms', 'population', 'households', 'median_income',\n",
      "       'median_house_value', 'ocean_proximity'],\n",
      "      dtype='object')\n",
      "Index(['id', 'date', 'price', 'bedrooms', 'bathrooms', 'sqft_living',\n",
      "       'sqft_lot', 'floors', 'waterfront', 'view', 'condition', 'grade',\n",
      "       'sqft_above', 'sqft_basement', 'yr_built', 'yr_renovated', 'zipcode',\n",
      "       'lat', 'long', 'sqft_living15', 'sqft_lot15'],\n",
      "      dtype='object')\n"
     ]
    }
   ],
   "source": [
    "print(df.columns)\n",
    "print(df2.columns)"
   ]
  },
  {
   "cell_type": "markdown",
   "id": "4e032e6c",
   "metadata": {},
   "source": [
    "**Find how many numerical features exist in the datasets**"
   ]
  },
  {
   "cell_type": "code",
   "execution_count": 7,
   "id": "98a1d53a",
   "metadata": {},
   "outputs": [
    {
     "name": "stdout",
     "output_type": "stream",
     "text": [
      "longitude              True\n",
      "latitude               True\n",
      "housing_median_age     True\n",
      "total_rooms            True\n",
      "total_bedrooms         True\n",
      "population             True\n",
      "households             True\n",
      "median_income          True\n",
      "median_house_value     True\n",
      "ocean_proximity       False\n",
      "dtype: bool\n",
      "True     9\n",
      "False    1\n",
      "dtype: int64\n"
     ]
    }
   ],
   "source": [
    "columns1 = df.applymap(np.isreal).all()\n",
    "print(columns1)\n",
    "print((columns1).value_counts())\n",
    "# Numerical values = True\n",
    "# Others = False"
   ]
  },
  {
   "cell_type": "code",
   "execution_count": 8,
   "id": "f9945df7",
   "metadata": {},
   "outputs": [
    {
     "name": "stdout",
     "output_type": "stream",
     "text": [
      "id                True\n",
      "date             False\n",
      "price             True\n",
      "bedrooms          True\n",
      "bathrooms         True\n",
      "sqft_living       True\n",
      "sqft_lot          True\n",
      "floors            True\n",
      "waterfront        True\n",
      "view              True\n",
      "condition         True\n",
      "grade             True\n",
      "sqft_above        True\n",
      "sqft_basement     True\n",
      "yr_built          True\n",
      "yr_renovated      True\n",
      "zipcode           True\n",
      "lat               True\n",
      "long              True\n",
      "sqft_living15     True\n",
      "sqft_lot15        True\n",
      "dtype: bool\n",
      "True     20\n",
      "False     1\n",
      "dtype: int64\n"
     ]
    }
   ],
   "source": [
    "columns2 = df2.applymap(np.isreal).all()\n",
    "print(columns2)\n",
    "print((columns2).value_counts())\n",
    "# Numerical values = True\n",
    "# Others = False"
   ]
  },
  {
   "cell_type": "markdown",
   "id": "21c0e6a9",
   "metadata": {},
   "source": [
    "**Finding Correlation Matrix for Datasets**"
   ]
  },
  {
   "cell_type": "code",
   "execution_count": 9,
   "id": "4da12503",
   "metadata": {},
   "outputs": [
    {
     "name": "stdout",
     "output_type": "stream",
     "text": [
      "                    longitude  latitude  housing_median_age  total_rooms  \\\n",
      "longitude            1.000000 -0.924664           -0.108197     0.044568   \n",
      "latitude            -0.924664  1.000000            0.011173    -0.036100   \n",
      "housing_median_age  -0.108197  0.011173            1.000000    -0.361262   \n",
      "total_rooms          0.044568 -0.036100           -0.361262     1.000000   \n",
      "total_bedrooms       0.069608 -0.066983           -0.320451     0.930380   \n",
      "population           0.099773 -0.108785           -0.296244     0.857126   \n",
      "households           0.055310 -0.071035           -0.302916     0.918484   \n",
      "median_income       -0.015176 -0.079809           -0.119034     0.198050   \n",
      "median_house_value  -0.045967 -0.144160            0.105623     0.134153   \n",
      "\n",
      "                    total_bedrooms  population  households  median_income  \\\n",
      "longitude                 0.069608    0.099773    0.055310      -0.015176   \n",
      "latitude                 -0.066983   -0.108785   -0.071035      -0.079809   \n",
      "housing_median_age       -0.320451   -0.296244   -0.302916      -0.119034   \n",
      "total_rooms               0.930380    0.857126    0.918484       0.198050   \n",
      "total_bedrooms            1.000000    0.877747    0.979728      -0.007723   \n",
      "population                0.877747    1.000000    0.907222       0.004834   \n",
      "households                0.979728    0.907222    1.000000       0.013033   \n",
      "median_income            -0.007723    0.004834    0.013033       1.000000   \n",
      "median_house_value        0.049686   -0.024650    0.065843       0.688075   \n",
      "\n",
      "                    median_house_value  \n",
      "longitude                    -0.045967  \n",
      "latitude                     -0.144160  \n",
      "housing_median_age            0.105623  \n",
      "total_rooms                   0.134153  \n",
      "total_bedrooms                0.049686  \n",
      "population                   -0.024650  \n",
      "households                    0.065843  \n",
      "median_income                 0.688075  \n",
      "median_house_value            1.000000  \n"
     ]
    }
   ],
   "source": [
    "# Dropping irrelevant columns\n",
    "data1 = df.drop(['ocean_proximity'], axis = 1)\n",
    "# correlation matrix \n",
    "corr_matrix_1 = data1.corr()\n",
    "print(corr_matrix_1)"
   ]
  },
  {
   "cell_type": "markdown",
   "id": "e8885075",
   "metadata": {},
   "source": [
    "- Medium correlation between median_income and median_house_value\n",
    "- all other correlations of features with median_house_value are very weak"
   ]
  },
  {
   "cell_type": "code",
   "execution_count": 10,
   "id": "ef2b6e47",
   "metadata": {},
   "outputs": [
    {
     "name": "stdout",
     "output_type": "stream",
     "text": [
      "                  price  bedrooms  bathrooms  sqft_living  sqft_lot    floors  \\\n",
      "price          1.000000  0.308350   0.525138     0.702035  0.089661  0.256794   \n",
      "bedrooms       0.308350  1.000000   0.515884     0.576671  0.031703  0.175429   \n",
      "bathrooms      0.525138  0.515884   1.000000     0.754665  0.087740  0.500653   \n",
      "sqft_living    0.702035  0.576671   0.754665     1.000000  0.172826  0.353949   \n",
      "sqft_lot       0.089661  0.031703   0.087740     0.172826  1.000000 -0.005201   \n",
      "floors         0.256794  0.175429   0.500653     0.353949 -0.005201  1.000000   \n",
      "waterfront     0.266369 -0.006582   0.063744     0.103818  0.021604  0.023698   \n",
      "view           0.397293  0.079532   0.187737     0.284611  0.074710  0.029444   \n",
      "condition      0.036362  0.028472  -0.124982    -0.058753 -0.008958 -0.263768   \n",
      "grade          0.667434  0.356967   0.664983     0.762704  0.113621  0.458183   \n",
      "sqft_above     0.605567  0.477600   0.685342     0.876597  0.183512  0.523885   \n",
      "sqft_basement  0.323816  0.303093   0.283770     0.435043  0.015286 -0.245705   \n",
      "yr_built       0.054012  0.154178   0.506019     0.318049  0.053080  0.489319   \n",
      "yr_renovated   0.126434  0.018841   0.050739     0.055363  0.007644  0.006338   \n",
      "lat            0.307003 -0.008931   0.024573     0.052529 -0.085683  0.049614   \n",
      "long           0.021626  0.129473   0.223042     0.240223  0.229521  0.125419   \n",
      "sqft_living15  0.585379  0.391638   0.568634     0.756420  0.144608  0.279885   \n",
      "sqft_lot15     0.082447  0.029244   0.087175     0.183286  0.718557 -0.011269   \n",
      "\n",
      "               waterfront      view  condition     grade  sqft_above  \\\n",
      "price            0.266369  0.397293   0.036362  0.667434    0.605567   \n",
      "bedrooms        -0.006582  0.079532   0.028472  0.356967    0.477600   \n",
      "bathrooms        0.063744  0.187737  -0.124982  0.664983    0.685342   \n",
      "sqft_living      0.103818  0.284611  -0.058753  0.762704    0.876597   \n",
      "sqft_lot         0.021604  0.074710  -0.008958  0.113621    0.183512   \n",
      "floors           0.023698  0.029444  -0.263768  0.458183    0.523885   \n",
      "waterfront       1.000000  0.401857   0.016653  0.082775    0.072075   \n",
      "view             0.401857  1.000000   0.045990  0.251321    0.167649   \n",
      "condition        0.016653  0.045990   1.000000 -0.144674   -0.158214   \n",
      "grade            0.082775  0.251321  -0.144674  1.000000    0.755923   \n",
      "sqft_above       0.072075  0.167649  -0.158214  0.755923    1.000000   \n",
      "sqft_basement    0.080588  0.276947   0.174105  0.168392   -0.051943   \n",
      "yr_built        -0.026161 -0.053440  -0.361417  0.446963    0.423898   \n",
      "yr_renovated     0.092885  0.103917  -0.060618  0.014414    0.023285   \n",
      "lat             -0.014274  0.006157  -0.014941  0.114084   -0.000816   \n",
      "long            -0.041910 -0.078400  -0.106500  0.198372    0.343803   \n",
      "sqft_living15    0.086463  0.280439  -0.092824  0.713202    0.731870   \n",
      "sqft_lot15       0.030703  0.072575  -0.003406  0.119248    0.194050   \n",
      "\n",
      "               sqft_basement  yr_built  yr_renovated       lat      long  \\\n",
      "price               0.323816  0.054012      0.126434  0.307003  0.021626   \n",
      "bedrooms            0.303093  0.154178      0.018841 -0.008931  0.129473   \n",
      "bathrooms           0.283770  0.506019      0.050739  0.024573  0.223042   \n",
      "sqft_living         0.435043  0.318049      0.055363  0.052529  0.240223   \n",
      "sqft_lot            0.015286  0.053080      0.007644 -0.085683  0.229521   \n",
      "floors             -0.245705  0.489319      0.006338  0.049614  0.125419   \n",
      "waterfront          0.080588 -0.026161      0.092885 -0.014274 -0.041910   \n",
      "view                0.276947 -0.053440      0.103917  0.006157 -0.078400   \n",
      "condition           0.174105 -0.361417     -0.060618 -0.014941 -0.106500   \n",
      "grade               0.168392  0.446963      0.014414  0.114084  0.198372   \n",
      "sqft_above         -0.051943  0.423898      0.023285 -0.000816  0.343803   \n",
      "sqft_basement       1.000000 -0.133124      0.071323  0.110538 -0.144765   \n",
      "yr_built           -0.133124  1.000000     -0.224874 -0.148122  0.409356   \n",
      "yr_renovated        0.071323 -0.224874      1.000000  0.029398 -0.068372   \n",
      "lat                 0.110538 -0.148122      0.029398  1.000000 -0.135512   \n",
      "long               -0.144765  0.409356     -0.068372 -0.135512  1.000000   \n",
      "sqft_living15       0.200355  0.326229     -0.002673  0.048858  0.334605   \n",
      "sqft_lot15          0.017276  0.070958      0.007854 -0.086419  0.254451   \n",
      "\n",
      "               sqft_living15  sqft_lot15  \n",
      "price               0.585379    0.082447  \n",
      "bedrooms            0.391638    0.029244  \n",
      "bathrooms           0.568634    0.087175  \n",
      "sqft_living         0.756420    0.183286  \n",
      "sqft_lot            0.144608    0.718557  \n",
      "floors              0.279885   -0.011269  \n",
      "waterfront          0.086463    0.030703  \n",
      "view                0.280439    0.072575  \n",
      "condition          -0.092824   -0.003406  \n",
      "grade               0.713202    0.119248  \n",
      "sqft_above          0.731870    0.194050  \n",
      "sqft_basement       0.200355    0.017276  \n",
      "yr_built            0.326229    0.070958  \n",
      "yr_renovated       -0.002673    0.007854  \n",
      "lat                 0.048858   -0.086419  \n",
      "long                0.334605    0.254451  \n",
      "sqft_living15       1.000000    0.183192  \n",
      "sqft_lot15          0.183192    1.000000  \n"
     ]
    }
   ],
   "source": [
    "# Dropping irrelevant columns\n",
    "data2 = df2.drop(['id', 'date', 'zipcode'], axis = 1)\n",
    "# correlation matrix\n",
    "corr_matrix_2 = data2.corr()\n",
    "print(corr_matrix_2)"
   ]
  },
  {
   "cell_type": "markdown",
   "id": "66b1d2fc",
   "metadata": {},
   "source": [
    "- strong correlation between sqft_living x price and sqft_lot x price\n",
    "- medium correlation between bedrooms/bathrooms/view/grade/sqft_above/sqft_basement/lat/sqft_living15 x price"
   ]
  },
  {
   "cell_type": "markdown",
   "id": "7324f161",
   "metadata": {},
   "source": [
    "**Graphs between various feature variables & target variable**"
   ]
  },
  {
   "cell_type": "markdown",
   "id": "0b6dcded",
   "metadata": {},
   "source": [
    "housing.csv dataset\n",
    "- median income x median house value\n",
    "- seems to have linear relationship"
   ]
  },
  {
   "cell_type": "code",
   "execution_count": 11,
   "id": "8ac04b91",
   "metadata": {},
   "outputs": [
    {
     "data": {
      "image/png": "[encoded data removed]",
      "text/plain": [
       "<Figure size 432x288 with 1 Axes>"
      ]
     },
     "metadata": {
      "needs_background": "light"
     },
     "output_type": "display_data"
    }
   ],
   "source": [
    "import matplotlib.pyplot as plt\n",
    "\n",
    "plt.scatter(data1['median_income'], data1['median_house_value'], s = 3)\n",
    "plt.show()"
   ]
  },
  {
   "cell_type": "markdown",
   "id": "c0d13404",
   "metadata": {},
   "source": [
    "kc_house_data.csv dataset\n",
    "- sqft living x price\n",
    "- seems to have linear relationship"
   ]
  },
  {
   "cell_type": "code",
   "execution_count": 12,
   "id": "f47f3c40",
   "metadata": {},
   "outputs": [
    {
     "data": {
      "image/png": "[encoded data removed]",
      "text/plain": [
       "<Figure size 432x288 with 1 Axes>"
      ]
     },
     "metadata": {
      "needs_background": "light"
     },
     "output_type": "display_data"
    }
   ],
   "source": [
    "plt.scatter(data2['sqft_living'], data2['price'], s = 5)\n",
    "plt.show()"
   ]
  },
  {
   "cell_type": "markdown",
   "id": "33a453f4",
   "metadata": {},
   "source": [
    "- sqft_lot x price"
   ]
  },
  {
   "cell_type": "code",
   "execution_count": 13,
   "id": "97c7bd6d",
   "metadata": {},
   "outputs": [
    {
     "data": {
      "image/png": "[encoded data removed]",
      "text/plain": [
       "<Figure size 432x288 with 1 Axes>"
      ]
     },
     "metadata": {
      "needs_background": "light"
     },
     "output_type": "display_data"
    }
   ],
   "source": [
    "plt.scatter(data2['sqft_lot'], data2['price'], s = 10)\n",
    "plt.show()"
   ]
  },
  {
   "cell_type": "markdown",
   "id": "54de956e",
   "metadata": {},
   "source": [
    "- grade x price\n",
    "- seems to have linear relationship"
   ]
  },
  {
   "cell_type": "code",
   "execution_count": 14,
   "id": "1ede187c",
   "metadata": {},
   "outputs": [
    {
     "data": {
      "image/png": "[encoded data removed]",
      "text/plain": [
       "<Figure size 432x288 with 1 Axes>"
      ]
     },
     "metadata": {
      "needs_background": "light"
     },
     "output_type": "display_data"
    }
   ],
   "source": [
    "plt.scatter(data2['grade'], data2['price'])\n",
    "plt.show()"
   ]
  },
  {
   "cell_type": "markdown",
   "id": "725db950",
   "metadata": {},
   "source": [
    "- bedrooms x price"
   ]
  },
  {
   "cell_type": "code",
   "execution_count": 15,
   "id": "f86a5af7",
   "metadata": {},
   "outputs": [
    {
     "data": {
      "image/png": "[encoded data removed]",
      "text/plain": [
       "<Figure size 432x288 with 1 Axes>"
      ]
     },
     "metadata": {
      "needs_background": "light"
     },
     "output_type": "display_data"
    }
   ],
   "source": [
    "plt.scatter(data2['bedrooms'], data2['price'])\n",
    "plt.show()"
   ]
  },
  {
   "cell_type": "markdown",
   "id": "664368f3",
   "metadata": {},
   "source": [
    "- bathrooms x price"
   ]
  },
  {
   "cell_type": "code",
   "execution_count": 16,
   "id": "9ebce5b9",
   "metadata": {},
   "outputs": [
    {
     "data": {
      "image/png": "[encoded data removed]",
      "text/plain": [
       "<Figure size 432x288 with 1 Axes>"
      ]
     },
     "metadata": {
      "needs_background": "light"
     },
     "output_type": "display_data"
    }
   ],
   "source": [
    "plt.scatter(data2['bathrooms'], data2['price'])\n",
    "plt.show()"
   ]
  },
  {
   "cell_type": "markdown",
   "id": "e7fd5492",
   "metadata": {},
   "source": [
    "- view x price"
   ]
  },
  {
   "cell_type": "code",
   "execution_count": 17,
   "id": "143bd676",
   "metadata": {
    "scrolled": true
   },
   "outputs": [
    {
     "data": {
      "image/png": "[encoded data removed]",
      "text/plain": [
       "<Figure size 432x288 with 1 Axes>"
      ]
     },
     "metadata": {
      "needs_background": "light"
     },
     "output_type": "display_data"
    }
   ],
   "source": [
    "plt.scatter(data2['view'], data2['price'])\n",
    "plt.show()"
   ]
  },
  {
   "cell_type": "markdown",
   "id": "17abeb46",
   "metadata": {},
   "source": [
    "- sqft_above x price\n",
    "- seems to have linear relationship"
   ]
  },
  {
   "cell_type": "code",
   "execution_count": 18,
   "id": "4a6e99c0",
   "metadata": {
    "scrolled": true
   },
   "outputs": [
    {
     "data": {
      "image/png": "[encoded data removed]",
      "text/plain": [
       "<Figure size 432x288 with 1 Axes>"
      ]
     },
     "metadata": {
      "needs_background": "light"
     },
     "output_type": "display_data"
    }
   ],
   "source": [
    "plt.scatter(data2['sqft_above'], data2['price'], s = 10)\n",
    "plt.show()"
   ]
  },
  {
   "cell_type": "markdown",
   "id": "e18c99f6",
   "metadata": {},
   "source": [
    "- sqft_basement x price"
   ]
  },
  {
   "cell_type": "code",
   "execution_count": 19,
   "id": "f805c930",
   "metadata": {
    "scrolled": true
   },
   "outputs": [
    {
     "data": {
      "image/png": "[encoded data removed]",
      "text/plain": [
       "<Figure size 432x288 with 1 Axes>"
      ]
     },
     "metadata": {
      "needs_background": "light"
     },
     "output_type": "display_data"
    }
   ],
   "source": [
    "plt.scatter(data2['sqft_basement'], data2['price'], s = 3)\n",
    "plt.show()"
   ]
  },
  {
   "cell_type": "markdown",
   "id": "191a5192",
   "metadata": {},
   "source": [
    "- lat x price"
   ]
  },
  {
   "cell_type": "code",
   "execution_count": 20,
   "id": "fae80662",
   "metadata": {
    "scrolled": true
   },
   "outputs": [
    {
     "data": {
      "image/png": "[encoded data removed]",
      "text/plain": [
       "<Figure size 432x288 with 1 Axes>"
      ]
     },
     "metadata": {
      "needs_background": "light"
     },
     "output_type": "display_data"
    }
   ],
   "source": [
    "plt.scatter(data2['lat'], data2['price'])\n",
    "plt.show()"
   ]
  },
  {
   "cell_type": "markdown",
   "id": "4015f8a2",
   "metadata": {},
   "source": [
    "- sqft_living15 x price\n",
    "- seems to have linear relationship"
   ]
  },
  {
   "cell_type": "code",
   "execution_count": 21,
   "id": "e6c3d15c",
   "metadata": {
    "scrolled": true
   },
   "outputs": [
    {
     "data": {
      "image/png": "[encoded data removed]",
      "text/plain": [
       "<Figure size 432x288 with 1 Axes>"
      ]
     },
     "metadata": {
      "needs_background": "light"
     },
     "output_type": "display_data"
    }
   ],
   "source": [
    "plt.scatter(data2['sqft_living15'], data2['price'], s = 10)\n",
    "plt.show()"
   ]
  },
  {
   "cell_type": "markdown",
   "id": "01fb5779",
   "metadata": {},
   "source": [
    "**Applying Linear Regression and finding error**"
   ]
  },
  {
   "cell_type": "code",
   "execution_count": 22,
   "id": "a9909d6b",
   "metadata": {},
   "outputs": [
    {
     "name": "stdout",
     "output_type": "stream",
     "text": [
      "Slope:  [[41793.8492019]]\n",
      "Intercept:  [45085.57670327]\n",
      "Error: 0.526552508192801\n"
     ]
    },
    {
     "data": {
      "image/png": "[encoded data removed]",
      "text/plain": [
       "<Figure size 432x288 with 1 Axes>"
      ]
     },
     "metadata": {
      "needs_background": "light"
     },
     "output_type": "display_data"
    }
   ],
   "source": [
    "from sklearn.linear_model import LinearRegression\n",
    "\n",
    "X = np.array(data1['median_income']).reshape(-1, 1)\n",
    "y = np.array(data1['median_house_value']).reshape(-1, 1)\n",
    "\n",
    "LR = LinearRegression()\n",
    "LR.fit(X, y)\n",
    "print(\"Slope: \", LR.coef_)\n",
    "print(\"Intercept: \", LR.intercept_)\n",
    "# error 1 - score\n",
    "print(\"Error:\", (1 - LR.score(X, y)))\n",
    "y_pred = LR.predict(X)\n",
    "plt.scatter(data1['median_income'], data1['median_house_value'], s = 3)\n",
    "plt.plot(X, y_pred, color = 'r')\n",
    "plt.show()"
   ]
  },
  {
   "cell_type": "code",
   "execution_count": 23,
   "id": "68e23aba",
   "metadata": {},
   "outputs": [
    {
     "name": "stdout",
     "output_type": "stream",
     "text": [
      "Slope:  [[280.6235679]]\n",
      "Intercept:  [-43580.74309447]\n",
      "Error: 0.5071467820962069\n"
     ]
    },
    {
     "data": {
      "image/png": "[encoded data removed]",
      "text/plain": [
       "<Figure size 432x288 with 1 Axes>"
      ]
     },
     "metadata": {
      "needs_background": "light"
     },
     "output_type": "display_data"
    }
   ],
   "source": [
    "X = np.array(data2['sqft_living']).reshape(-1, 1)\n",
    "y = np.array(data2['price']).reshape(-1, 1)\n",
    "\n",
    "LR = LinearRegression()\n",
    "LR.fit(X, y)\n",
    "print(\"Slope: \", LR.coef_)\n",
    "print(\"Intercept: \", LR.intercept_)\n",
    "# error 1 - score\n",
    "print(\"Error:\", (1 - LR.score(X, y)))\n",
    "y_pred = LR.predict(X)\n",
    "plt.scatter(data2['sqft_living'], data2['price'], s = 3)\n",
    "plt.plot(X, y_pred, color = 'r')\n",
    "plt.show()"
   ]
  },
  {
   "cell_type": "code",
   "execution_count": 24,
   "id": "0ab5d8f9",
   "metadata": {},
   "outputs": [
    {
     "name": "stdout",
     "output_type": "stream",
     "text": [
      "Slope:  [[208457.56245838]]\n",
      "Intercept:  [-1056044.97700978]\n",
      "Error: 0.5545315138907129\n"
     ]
    },
    {
     "data": {
      "image/png": "[encoded data removed]",
      "text/plain": [
       "<Figure size 432x288 with 1 Axes>"
      ]
     },
     "metadata": {
      "needs_background": "light"
     },
     "output_type": "display_data"
    }
   ],
   "source": [
    "X = np.array(data2['grade']).reshape(-1, 1)\n",
    "y = np.array(data2['price']).reshape(-1, 1)\n",
    "\n",
    "LR = LinearRegression()\n",
    "LR.fit(X, y)\n",
    "print(\"Slope: \", LR.coef_)\n",
    "print(\"Intercept: \", LR.intercept_)\n",
    "# error 1 - score\n",
    "print(\"Error:\", (1 - LR.score(X, y)))\n",
    "y_pred = LR.predict(X)\n",
    "plt.scatter(data2['grade'], data2['price'], s = 3)\n",
    "plt.plot(X, y_pred, color = 'r')\n",
    "plt.show()"
   ]
  },
  {
   "cell_type": "code",
   "execution_count": 25,
   "id": "2a37762a",
   "metadata": {},
   "outputs": [
    {
     "name": "stdout",
     "output_type": "stream",
     "text": [
      "Slope:  [[268.47318776]]\n",
      "Intercept:  [59953.192047]\n",
      "Error: 0.6332882471617206\n"
     ]
    },
    {
     "data": {
      "image/png": "[encoded data removed]",
      "text/plain": [
       "<Figure size 432x288 with 1 Axes>"
      ]
     },
     "metadata": {
      "needs_background": "light"
     },
     "output_type": "display_data"
    }
   ],
   "source": [
    "X = np.array(data2['sqft_above']).reshape(-1, 1)\n",
    "y = np.array(data2['price']).reshape(-1, 1)\n",
    "\n",
    "LR = LinearRegression()\n",
    "LR.fit(X, y)\n",
    "print(\"Slope: \", LR.coef_)\n",
    "print(\"Intercept: \", LR.intercept_)\n",
    "# error 1 - score\n",
    "print(\"Error:\", (1 - LR.score(X, y)))\n",
    "y_pred = LR.predict(X)\n",
    "plt.scatter(data2['sqft_above'], data2['price'], s = 3)\n",
    "plt.plot(X, y_pred, color = 'r')\n",
    "plt.show()"
   ]
  },
  {
   "cell_type": "code",
   "execution_count": 26,
   "id": "7800a1a3",
   "metadata": {},
   "outputs": [
    {
     "name": "stdout",
     "output_type": "stream",
     "text": [
      "Slope:  [[313.55594157]]\n",
      "Intercept:  [-82807.19520854]\n",
      "Error: 0.6573315392439828\n"
     ]
    },
    {
     "data": {
      "image/png": "[encoded data removed]",
      "text/plain": [
       "<Figure size 432x288 with 1 Axes>"
      ]
     },
     "metadata": {
      "needs_background": "light"
     },
     "output_type": "display_data"
    }
   ],
   "source": [
    "X = np.array(data2['sqft_living15']).reshape(-1, 1)\n",
    "y = np.array(data2['price']).reshape(-1, 1)\n",
    "\n",
    "LR = LinearRegression()\n",
    "LR.fit(X, y)\n",
    "print(\"Slope: \", LR.coef_)\n",
    "print(\"Intercept: \", LR.intercept_)\n",
    "# error 1 - score\n",
    "print(\"Error:\", (1 - LR.score(X, y)))\n",
    "y_pred = LR.predict(X)\n",
    "plt.scatter(data2['sqft_living15'], data2['price'], s = 3)\n",
    "plt.plot(X, y_pred, color = 'r')\n",
    "plt.show()"
   ]
  },
  {
   "cell_type": "markdown",
   "id": "839a1710",
   "metadata": {},
   "source": [
    "### Results (rounded)\n",
    "| Feature | Slope | Intercept |\n",
    "| --- | --- | --- |\n",
    "| median_income| 41793.85 | 45085.58 |\n",
    "| sqft_living | 280.62 | -43580.74 |\n",
    "| grade | 208457.56 | -1056044.98 |\n",
    "| sqft_above | 268.47 | 59953.19 |\n",
    "| sqft_living15 | 313.56 | -82807.20 |"
   ]
  },
  {
   "cell_type": "code",
   "execution_count": null,
   "id": "df042365",
   "metadata": {},
   "outputs": [],
   "source": []
  }
 ],
 "metadata": {
  "kernelspec": {
   "display_name": "Python 3 (ipykernel)",
   "language": "python",
   "name": "python3"
  },
  "language_info": {
   "codemirror_mode": {
    "name": "ipython",
    "version": 3
   },
   "file_extension": ".py",
   "mimetype": "text/x-python",
   "name": "python",
   "nbconvert_exporter": "python",
   "pygments_lexer": "ipython3",
   "version": "3.9.7"
  }
 },
 "nbformat": 4,
 "nbformat_minor": 5
}
