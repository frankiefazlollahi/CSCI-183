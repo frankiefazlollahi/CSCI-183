{
 "cells": [
  {
   "cell_type": "code",
   "execution_count": 1,
   "id": "9467ae3b",
   "metadata": {},
   "outputs": [],
   "source": [
    "import pandas as pd\n",
    "import numpy as np"
   ]
  },
  {
   "cell_type": "markdown",
   "id": "aa8f9c37",
   "metadata": {},
   "source": [
    "### Loading the Dataset ###"
   ]
  },
  {
   "cell_type": "code",
   "execution_count": 2,
   "id": "115e33e6",
   "metadata": {},
   "outputs": [],
   "source": [
    "df = pd.read_csv('Train_data.csv')"
   ]
  },
  {
   "cell_type": "code",
   "execution_count": 3,
   "id": "9f8a645f",
   "metadata": {},
   "outputs": [
    {
     "name": "stdout",
     "output_type": "stream",
     "text": [
      "The training data has 25192 rows and 42 columns\n"
     ]
    },
    {
     "data": {
      "text/html": [
       "<div>\n",
       "<style scoped>\n",
       "    .dataframe tbody tr th:only-of-type {\n",
       "        vertical-align: middle;\n",
       "    }\n",
       "\n",
       "    .dataframe tbody tr th {\n",
       "        vertical-align: top;\n",
       "    }\n",
       "\n",
       "    .dataframe thead th {\n",
       "        text-align: right;\n",
       "    }\n",
       "</style>\n",
       "<table border=\"1\" class=\"dataframe\">\n",
       "  <thead>\n",
       "    <tr style=\"text-align: right;\">\n",
       "      <th></th>\n",
       "      <th>duration</th>\n",
       "      <th>protocol_type</th>\n",
       "      <th>service</th>\n",
       "      <th>flag</th>\n",
       "      <th>src_bytes</th>\n",
       "      <th>dst_bytes</th>\n",
       "      <th>land</th>\n",
       "      <th>wrong_fragment</th>\n",
       "      <th>urgent</th>\n",
       "      <th>hot</th>\n",
       "      <th>...</th>\n",
       "      <th>dst_host_srv_count</th>\n",
       "      <th>dst_host_same_srv_rate</th>\n",
       "      <th>dst_host_diff_srv_rate</th>\n",
       "      <th>dst_host_same_src_port_rate</th>\n",
       "      <th>dst_host_srv_diff_host_rate</th>\n",
       "      <th>dst_host_serror_rate</th>\n",
       "      <th>dst_host_srv_serror_rate</th>\n",
       "      <th>dst_host_rerror_rate</th>\n",
       "      <th>dst_host_srv_rerror_rate</th>\n",
       "      <th>class</th>\n",
       "    </tr>\n",
       "  </thead>\n",
       "  <tbody>\n",
       "    <tr>\n",
       "      <th>0</th>\n",
       "      <td>0</td>\n",
       "      <td>tcp</td>\n",
       "      <td>ftp_data</td>\n",
       "      <td>SF</td>\n",
       "      <td>491</td>\n",
       "      <td>0</td>\n",
       "      <td>0</td>\n",
       "      <td>0</td>\n",
       "      <td>0</td>\n",
       "      <td>0</td>\n",
       "      <td>...</td>\n",
       "      <td>25</td>\n",
       "      <td>0.17</td>\n",
       "      <td>0.03</td>\n",
       "      <td>0.17</td>\n",
       "      <td>0.00</td>\n",
       "      <td>0.00</td>\n",
       "      <td>0.00</td>\n",
       "      <td>0.05</td>\n",
       "      <td>0.00</td>\n",
       "      <td>normal</td>\n",
       "    </tr>\n",
       "    <tr>\n",
       "      <th>1</th>\n",
       "      <td>0</td>\n",
       "      <td>udp</td>\n",
       "      <td>other</td>\n",
       "      <td>SF</td>\n",
       "      <td>146</td>\n",
       "      <td>0</td>\n",
       "      <td>0</td>\n",
       "      <td>0</td>\n",
       "      <td>0</td>\n",
       "      <td>0</td>\n",
       "      <td>...</td>\n",
       "      <td>1</td>\n",
       "      <td>0.00</td>\n",
       "      <td>0.60</td>\n",
       "      <td>0.88</td>\n",
       "      <td>0.00</td>\n",
       "      <td>0.00</td>\n",
       "      <td>0.00</td>\n",
       "      <td>0.00</td>\n",
       "      <td>0.00</td>\n",
       "      <td>normal</td>\n",
       "    </tr>\n",
       "    <tr>\n",
       "      <th>2</th>\n",
       "      <td>0</td>\n",
       "      <td>tcp</td>\n",
       "      <td>private</td>\n",
       "      <td>S0</td>\n",
       "      <td>0</td>\n",
       "      <td>0</td>\n",
       "      <td>0</td>\n",
       "      <td>0</td>\n",
       "      <td>0</td>\n",
       "      <td>0</td>\n",
       "      <td>...</td>\n",
       "      <td>26</td>\n",
       "      <td>0.10</td>\n",
       "      <td>0.05</td>\n",
       "      <td>0.00</td>\n",
       "      <td>0.00</td>\n",
       "      <td>1.00</td>\n",
       "      <td>1.00</td>\n",
       "      <td>0.00</td>\n",
       "      <td>0.00</td>\n",
       "      <td>anomaly</td>\n",
       "    </tr>\n",
       "    <tr>\n",
       "      <th>3</th>\n",
       "      <td>0</td>\n",
       "      <td>tcp</td>\n",
       "      <td>http</td>\n",
       "      <td>SF</td>\n",
       "      <td>232</td>\n",
       "      <td>8153</td>\n",
       "      <td>0</td>\n",
       "      <td>0</td>\n",
       "      <td>0</td>\n",
       "      <td>0</td>\n",
       "      <td>...</td>\n",
       "      <td>255</td>\n",
       "      <td>1.00</td>\n",
       "      <td>0.00</td>\n",
       "      <td>0.03</td>\n",
       "      <td>0.04</td>\n",
       "      <td>0.03</td>\n",
       "      <td>0.01</td>\n",
       "      <td>0.00</td>\n",
       "      <td>0.01</td>\n",
       "      <td>normal</td>\n",
       "    </tr>\n",
       "    <tr>\n",
       "      <th>4</th>\n",
       "      <td>0</td>\n",
       "      <td>tcp</td>\n",
       "      <td>http</td>\n",
       "      <td>SF</td>\n",
       "      <td>199</td>\n",
       "      <td>420</td>\n",
       "      <td>0</td>\n",
       "      <td>0</td>\n",
       "      <td>0</td>\n",
       "      <td>0</td>\n",
       "      <td>...</td>\n",
       "      <td>255</td>\n",
       "      <td>1.00</td>\n",
       "      <td>0.00</td>\n",
       "      <td>0.00</td>\n",
       "      <td>0.00</td>\n",
       "      <td>0.00</td>\n",
       "      <td>0.00</td>\n",
       "      <td>0.00</td>\n",
       "      <td>0.00</td>\n",
       "      <td>normal</td>\n",
       "    </tr>\n",
       "  </tbody>\n",
       "</table>\n",
       "<p>5 rows × 42 columns</p>\n",
       "</div>"
      ],
      "text/plain": [
       "   duration protocol_type   service flag  src_bytes  dst_bytes  land  \\\n",
       "0         0           tcp  ftp_data   SF        491          0     0   \n",
       "1         0           udp     other   SF        146          0     0   \n",
       "2         0           tcp   private   S0          0          0     0   \n",
       "3         0           tcp      http   SF        232       8153     0   \n",
       "4         0           tcp      http   SF        199        420     0   \n",
       "\n",
       "   wrong_fragment  urgent  hot  ...  dst_host_srv_count  \\\n",
       "0               0       0    0  ...                  25   \n",
       "1               0       0    0  ...                   1   \n",
       "2               0       0    0  ...                  26   \n",
       "3               0       0    0  ...                 255   \n",
       "4               0       0    0  ...                 255   \n",
       "\n",
       "   dst_host_same_srv_rate  dst_host_diff_srv_rate  \\\n",
       "0                    0.17                    0.03   \n",
       "1                    0.00                    0.60   \n",
       "2                    0.10                    0.05   \n",
       "3                    1.00                    0.00   \n",
       "4                    1.00                    0.00   \n",
       "\n",
       "   dst_host_same_src_port_rate  dst_host_srv_diff_host_rate  \\\n",
       "0                         0.17                         0.00   \n",
       "1                         0.88                         0.00   \n",
       "2                         0.00                         0.00   \n",
       "3                         0.03                         0.04   \n",
       "4                         0.00                         0.00   \n",
       "\n",
       "   dst_host_serror_rate  dst_host_srv_serror_rate  dst_host_rerror_rate  \\\n",
       "0                  0.00                      0.00                  0.05   \n",
       "1                  0.00                      0.00                  0.00   \n",
       "2                  1.00                      1.00                  0.00   \n",
       "3                  0.03                      0.01                  0.00   \n",
       "4                  0.00                      0.00                  0.00   \n",
       "\n",
       "   dst_host_srv_rerror_rate    class  \n",
       "0                      0.00   normal  \n",
       "1                      0.00   normal  \n",
       "2                      0.00  anomaly  \n",
       "3                      0.01   normal  \n",
       "4                      0.00   normal  \n",
       "\n",
       "[5 rows x 42 columns]"
      ]
     },
     "execution_count": 3,
     "metadata": {},
     "output_type": "execute_result"
    }
   ],
   "source": [
    "print(\"The training data has {} rows and {} columns\".format(df.shape[0], df.shape[1]))\n",
    "df.head()"
   ]
  },
  {
   "cell_type": "markdown",
   "id": "e6ed20be",
   "metadata": {},
   "source": [
    "### Splitting the Data ###"
   ]
  },
  {
   "cell_type": "code",
   "execution_count": 4,
   "id": "fdf650aa",
   "metadata": {},
   "outputs": [],
   "source": [
    "from sklearn.model_selection import train_test_split\n",
    "\n",
    "# split data into 70% training, 30% testing\n",
    "X_train, X_test, y_train, y_test = train_test_split(df.drop(\"class\", axis=1), df[\"class\"], test_size = 0.3, random_state = 0)"
   ]
  },
  {
   "cell_type": "markdown",
   "id": "a8f9bf82",
   "metadata": {},
   "source": [
    "### Data Analysis ###"
   ]
  },
  {
   "cell_type": "code",
   "execution_count": 5,
   "id": "88c8c0c9",
   "metadata": {},
   "outputs": [
    {
     "name": "stdout",
     "output_type": "stream",
     "text": [
      "<class 'pandas.core.frame.DataFrame'>\n",
      "Int64Index: 17634 entries, 3231 to 2732\n",
      "Data columns (total 41 columns):\n",
      " #   Column                       Non-Null Count  Dtype  \n",
      "---  ------                       --------------  -----  \n",
      " 0   duration                     17634 non-null  int64  \n",
      " 1   protocol_type                17634 non-null  object \n",
      " 2   service                      17634 non-null  object \n",
      " 3   flag                         17634 non-null  object \n",
      " 4   src_bytes                    17634 non-null  int64  \n",
      " 5   dst_bytes                    17634 non-null  int64  \n",
      " 6   land                         17634 non-null  int64  \n",
      " 7   wrong_fragment               17634 non-null  int64  \n",
      " 8   urgent                       17634 non-null  int64  \n",
      " 9   hot                          17634 non-null  int64  \n",
      " 10  num_failed_logins            17634 non-null  int64  \n",
      " 11  logged_in                    17634 non-null  int64  \n",
      " 12  num_compromised              17634 non-null  int64  \n",
      " 13  root_shell                   17634 non-null  int64  \n",
      " 14  su_attempted                 17634 non-null  int64  \n",
      " 15  num_root                     17634 non-null  int64  \n",
      " 16  num_file_creations           17634 non-null  int64  \n",
      " 17  num_shells                   17634 non-null  int64  \n",
      " 18  num_access_files             17634 non-null  int64  \n",
      " 19  num_outbound_cmds            17634 non-null  int64  \n",
      " 20  is_host_login                17634 non-null  int64  \n",
      " 21  is_guest_login               17634 non-null  int64  \n",
      " 22  count                        17634 non-null  int64  \n",
      " 23  srv_count                    17634 non-null  int64  \n",
      " 24  serror_rate                  17634 non-null  float64\n",
      " 25  srv_serror_rate              17634 non-null  float64\n",
      " 26  rerror_rate                  17634 non-null  float64\n",
      " 27  srv_rerror_rate              17634 non-null  float64\n",
      " 28  same_srv_rate                17634 non-null  float64\n",
      " 29  diff_srv_rate                17634 non-null  float64\n",
      " 30  srv_diff_host_rate           17634 non-null  float64\n",
      " 31  dst_host_count               17634 non-null  int64  \n",
      " 32  dst_host_srv_count           17634 non-null  int64  \n",
      " 33  dst_host_same_srv_rate       17634 non-null  float64\n",
      " 34  dst_host_diff_srv_rate       17634 non-null  float64\n",
      " 35  dst_host_same_src_port_rate  17634 non-null  float64\n",
      " 36  dst_host_srv_diff_host_rate  17634 non-null  float64\n",
      " 37  dst_host_serror_rate         17634 non-null  float64\n",
      " 38  dst_host_srv_serror_rate     17634 non-null  float64\n",
      " 39  dst_host_rerror_rate         17634 non-null  float64\n",
      " 40  dst_host_srv_rerror_rate     17634 non-null  float64\n",
      "dtypes: float64(15), int64(23), object(3)\n",
      "memory usage: 5.7+ MB\n"
     ]
    }
   ],
   "source": [
    "X_train.info()"
   ]
  },
  {
   "cell_type": "code",
   "execution_count": 6,
   "id": "0d105c98",
   "metadata": {},
   "outputs": [
    {
     "data": {
      "text/html": [
       "<div>\n",
       "<style scoped>\n",
       "    .dataframe tbody tr th:only-of-type {\n",
       "        vertical-align: middle;\n",
       "    }\n",
       "\n",
       "    .dataframe tbody tr th {\n",
       "        vertical-align: top;\n",
       "    }\n",
       "\n",
       "    .dataframe thead th {\n",
       "        text-align: right;\n",
       "    }\n",
       "</style>\n",
       "<table border=\"1\" class=\"dataframe\">\n",
       "  <thead>\n",
       "    <tr style=\"text-align: right;\">\n",
       "      <th></th>\n",
       "      <th>duration</th>\n",
       "      <th>src_bytes</th>\n",
       "      <th>dst_bytes</th>\n",
       "      <th>land</th>\n",
       "      <th>wrong_fragment</th>\n",
       "      <th>urgent</th>\n",
       "      <th>hot</th>\n",
       "      <th>num_failed_logins</th>\n",
       "      <th>logged_in</th>\n",
       "      <th>num_compromised</th>\n",
       "      <th>...</th>\n",
       "      <th>dst_host_count</th>\n",
       "      <th>dst_host_srv_count</th>\n",
       "      <th>dst_host_same_srv_rate</th>\n",
       "      <th>dst_host_diff_srv_rate</th>\n",
       "      <th>dst_host_same_src_port_rate</th>\n",
       "      <th>dst_host_srv_diff_host_rate</th>\n",
       "      <th>dst_host_serror_rate</th>\n",
       "      <th>dst_host_srv_serror_rate</th>\n",
       "      <th>dst_host_rerror_rate</th>\n",
       "      <th>dst_host_srv_rerror_rate</th>\n",
       "    </tr>\n",
       "  </thead>\n",
       "  <tbody>\n",
       "    <tr>\n",
       "      <th>count</th>\n",
       "      <td>17634.000000</td>\n",
       "      <td>1.763400e+04</td>\n",
       "      <td>1.763400e+04</td>\n",
       "      <td>17634.000000</td>\n",
       "      <td>17634.000000</td>\n",
       "      <td>17634.0</td>\n",
       "      <td>17634.000000</td>\n",
       "      <td>17634.000000</td>\n",
       "      <td>17634.000000</td>\n",
       "      <td>17634.000000</td>\n",
       "      <td>...</td>\n",
       "      <td>17634.000000</td>\n",
       "      <td>17634.000000</td>\n",
       "      <td>17634.000000</td>\n",
       "      <td>17634.000000</td>\n",
       "      <td>17634.000000</td>\n",
       "      <td>17634.000000</td>\n",
       "      <td>17634.000000</td>\n",
       "      <td>17634.000000</td>\n",
       "      <td>17634.000000</td>\n",
       "      <td>17634.000000</td>\n",
       "    </tr>\n",
       "    <tr>\n",
       "      <th>mean</th>\n",
       "      <td>305.916298</td>\n",
       "      <td>3.102594e+04</td>\n",
       "      <td>3.911871e+03</td>\n",
       "      <td>0.000057</td>\n",
       "      <td>0.024838</td>\n",
       "      <td>0.0</td>\n",
       "      <td>0.186855</td>\n",
       "      <td>0.001474</td>\n",
       "      <td>0.393274</td>\n",
       "      <td>0.230691</td>\n",
       "      <td>...</td>\n",
       "      <td>182.393388</td>\n",
       "      <td>114.862085</td>\n",
       "      <td>0.519779</td>\n",
       "      <td>0.080984</td>\n",
       "      <td>0.148106</td>\n",
       "      <td>0.031855</td>\n",
       "      <td>0.286951</td>\n",
       "      <td>0.281047</td>\n",
       "      <td>0.116031</td>\n",
       "      <td>0.116232</td>\n",
       "    </tr>\n",
       "    <tr>\n",
       "      <th>std</th>\n",
       "      <td>2659.142880</td>\n",
       "      <td>2.879881e+06</td>\n",
       "      <td>9.791655e+04</td>\n",
       "      <td>0.007531</td>\n",
       "      <td>0.266796</td>\n",
       "      <td>0.0</td>\n",
       "      <td>2.103478</td>\n",
       "      <td>0.052154</td>\n",
       "      <td>0.488491</td>\n",
       "      <td>10.036020</td>\n",
       "      <td>...</td>\n",
       "      <td>99.280502</td>\n",
       "      <td>110.579624</td>\n",
       "      <td>0.448933</td>\n",
       "      <td>0.183543</td>\n",
       "      <td>0.308781</td>\n",
       "      <td>0.110394</td>\n",
       "      <td>0.445976</td>\n",
       "      <td>0.446742</td>\n",
       "      <td>0.304115</td>\n",
       "      <td>0.314376</td>\n",
       "    </tr>\n",
       "    <tr>\n",
       "      <th>min</th>\n",
       "      <td>0.000000</td>\n",
       "      <td>0.000000e+00</td>\n",
       "      <td>0.000000e+00</td>\n",
       "      <td>0.000000</td>\n",
       "      <td>0.000000</td>\n",
       "      <td>0.0</td>\n",
       "      <td>0.000000</td>\n",
       "      <td>0.000000</td>\n",
       "      <td>0.000000</td>\n",
       "      <td>0.000000</td>\n",
       "      <td>...</td>\n",
       "      <td>1.000000</td>\n",
       "      <td>1.000000</td>\n",
       "      <td>0.000000</td>\n",
       "      <td>0.000000</td>\n",
       "      <td>0.000000</td>\n",
       "      <td>0.000000</td>\n",
       "      <td>0.000000</td>\n",
       "      <td>0.000000</td>\n",
       "      <td>0.000000</td>\n",
       "      <td>0.000000</td>\n",
       "    </tr>\n",
       "    <tr>\n",
       "      <th>25%</th>\n",
       "      <td>0.000000</td>\n",
       "      <td>0.000000e+00</td>\n",
       "      <td>0.000000e+00</td>\n",
       "      <td>0.000000</td>\n",
       "      <td>0.000000</td>\n",
       "      <td>0.0</td>\n",
       "      <td>0.000000</td>\n",
       "      <td>0.000000</td>\n",
       "      <td>0.000000</td>\n",
       "      <td>0.000000</td>\n",
       "      <td>...</td>\n",
       "      <td>84.000000</td>\n",
       "      <td>10.000000</td>\n",
       "      <td>0.050000</td>\n",
       "      <td>0.000000</td>\n",
       "      <td>0.000000</td>\n",
       "      <td>0.000000</td>\n",
       "      <td>0.000000</td>\n",
       "      <td>0.000000</td>\n",
       "      <td>0.000000</td>\n",
       "      <td>0.000000</td>\n",
       "    </tr>\n",
       "    <tr>\n",
       "      <th>50%</th>\n",
       "      <td>0.000000</td>\n",
       "      <td>4.400000e+01</td>\n",
       "      <td>0.000000e+00</td>\n",
       "      <td>0.000000</td>\n",
       "      <td>0.000000</td>\n",
       "      <td>0.0</td>\n",
       "      <td>0.000000</td>\n",
       "      <td>0.000000</td>\n",
       "      <td>0.000000</td>\n",
       "      <td>0.000000</td>\n",
       "      <td>...</td>\n",
       "      <td>255.000000</td>\n",
       "      <td>61.000000</td>\n",
       "      <td>0.500000</td>\n",
       "      <td>0.030000</td>\n",
       "      <td>0.000000</td>\n",
       "      <td>0.000000</td>\n",
       "      <td>0.000000</td>\n",
       "      <td>0.000000</td>\n",
       "      <td>0.000000</td>\n",
       "      <td>0.000000</td>\n",
       "    </tr>\n",
       "    <tr>\n",
       "      <th>75%</th>\n",
       "      <td>0.000000</td>\n",
       "      <td>2.800000e+02</td>\n",
       "      <td>5.210000e+02</td>\n",
       "      <td>0.000000</td>\n",
       "      <td>0.000000</td>\n",
       "      <td>0.0</td>\n",
       "      <td>0.000000</td>\n",
       "      <td>0.000000</td>\n",
       "      <td>1.000000</td>\n",
       "      <td>0.000000</td>\n",
       "      <td>...</td>\n",
       "      <td>255.000000</td>\n",
       "      <td>255.000000</td>\n",
       "      <td>1.000000</td>\n",
       "      <td>0.070000</td>\n",
       "      <td>0.060000</td>\n",
       "      <td>0.020000</td>\n",
       "      <td>1.000000</td>\n",
       "      <td>1.000000</td>\n",
       "      <td>0.000000</td>\n",
       "      <td>0.000000</td>\n",
       "    </tr>\n",
       "    <tr>\n",
       "      <th>max</th>\n",
       "      <td>42862.000000</td>\n",
       "      <td>3.817091e+08</td>\n",
       "      <td>5.151385e+06</td>\n",
       "      <td>1.000000</td>\n",
       "      <td>3.000000</td>\n",
       "      <td>0.0</td>\n",
       "      <td>77.000000</td>\n",
       "      <td>4.000000</td>\n",
       "      <td>1.000000</td>\n",
       "      <td>884.000000</td>\n",
       "      <td>...</td>\n",
       "      <td>255.000000</td>\n",
       "      <td>255.000000</td>\n",
       "      <td>1.000000</td>\n",
       "      <td>1.000000</td>\n",
       "      <td>1.000000</td>\n",
       "      <td>1.000000</td>\n",
       "      <td>1.000000</td>\n",
       "      <td>1.000000</td>\n",
       "      <td>1.000000</td>\n",
       "      <td>1.000000</td>\n",
       "    </tr>\n",
       "  </tbody>\n",
       "</table>\n",
       "<p>8 rows × 38 columns</p>\n",
       "</div>"
      ],
      "text/plain": [
       "           duration     src_bytes     dst_bytes          land  wrong_fragment  \\\n",
       "count  17634.000000  1.763400e+04  1.763400e+04  17634.000000    17634.000000   \n",
       "mean     305.916298  3.102594e+04  3.911871e+03      0.000057        0.024838   \n",
       "std     2659.142880  2.879881e+06  9.791655e+04      0.007531        0.266796   \n",
       "min        0.000000  0.000000e+00  0.000000e+00      0.000000        0.000000   \n",
       "25%        0.000000  0.000000e+00  0.000000e+00      0.000000        0.000000   \n",
       "50%        0.000000  4.400000e+01  0.000000e+00      0.000000        0.000000   \n",
       "75%        0.000000  2.800000e+02  5.210000e+02      0.000000        0.000000   \n",
       "max    42862.000000  3.817091e+08  5.151385e+06      1.000000        3.000000   \n",
       "\n",
       "        urgent           hot  num_failed_logins     logged_in  \\\n",
       "count  17634.0  17634.000000       17634.000000  17634.000000   \n",
       "mean       0.0      0.186855           0.001474      0.393274   \n",
       "std        0.0      2.103478           0.052154      0.488491   \n",
       "min        0.0      0.000000           0.000000      0.000000   \n",
       "25%        0.0      0.000000           0.000000      0.000000   \n",
       "50%        0.0      0.000000           0.000000      0.000000   \n",
       "75%        0.0      0.000000           0.000000      1.000000   \n",
       "max        0.0     77.000000           4.000000      1.000000   \n",
       "\n",
       "       num_compromised  ...  dst_host_count  dst_host_srv_count  \\\n",
       "count     17634.000000  ...    17634.000000        17634.000000   \n",
       "mean          0.230691  ...      182.393388          114.862085   \n",
       "std          10.036020  ...       99.280502          110.579624   \n",
       "min           0.000000  ...        1.000000            1.000000   \n",
       "25%           0.000000  ...       84.000000           10.000000   \n",
       "50%           0.000000  ...      255.000000           61.000000   \n",
       "75%           0.000000  ...      255.000000          255.000000   \n",
       "max         884.000000  ...      255.000000          255.000000   \n",
       "\n",
       "       dst_host_same_srv_rate  dst_host_diff_srv_rate  \\\n",
       "count            17634.000000            17634.000000   \n",
       "mean                 0.519779                0.080984   \n",
       "std                  0.448933                0.183543   \n",
       "min                  0.000000                0.000000   \n",
       "25%                  0.050000                0.000000   \n",
       "50%                  0.500000                0.030000   \n",
       "75%                  1.000000                0.070000   \n",
       "max                  1.000000                1.000000   \n",
       "\n",
       "       dst_host_same_src_port_rate  dst_host_srv_diff_host_rate  \\\n",
       "count                 17634.000000                 17634.000000   \n",
       "mean                      0.148106                     0.031855   \n",
       "std                       0.308781                     0.110394   \n",
       "min                       0.000000                     0.000000   \n",
       "25%                       0.000000                     0.000000   \n",
       "50%                       0.000000                     0.000000   \n",
       "75%                       0.060000                     0.020000   \n",
       "max                       1.000000                     1.000000   \n",
       "\n",
       "       dst_host_serror_rate  dst_host_srv_serror_rate  dst_host_rerror_rate  \\\n",
       "count          17634.000000              17634.000000          17634.000000   \n",
       "mean               0.286951                  0.281047              0.116031   \n",
       "std                0.445976                  0.446742              0.304115   \n",
       "min                0.000000                  0.000000              0.000000   \n",
       "25%                0.000000                  0.000000              0.000000   \n",
       "50%                0.000000                  0.000000              0.000000   \n",
       "75%                1.000000                  1.000000              0.000000   \n",
       "max                1.000000                  1.000000              1.000000   \n",
       "\n",
       "       dst_host_srv_rerror_rate  \n",
       "count              17634.000000  \n",
       "mean                   0.116232  \n",
       "std                    0.314376  \n",
       "min                    0.000000  \n",
       "25%                    0.000000  \n",
       "50%                    0.000000  \n",
       "75%                    0.000000  \n",
       "max                    1.000000  \n",
       "\n",
       "[8 rows x 38 columns]"
      ]
     },
     "execution_count": 6,
     "metadata": {},
     "output_type": "execute_result"
    }
   ],
   "source": [
    "X_train.describe()"
   ]
  },
  {
   "cell_type": "code",
   "execution_count": 7,
   "id": "59d2a5f4",
   "metadata": {},
   "outputs": [
    {
     "name": "stdout",
     "output_type": "stream",
     "text": [
      "0    17634\n",
      "Name: is_host_login, dtype: int64\n",
      "0    17634\n",
      "Name: num_outbound_cmds, dtype: int64\n"
     ]
    }
   ],
   "source": [
    "print(X_train['is_host_login'].value_counts())\n",
    "print(X_train['num_outbound_cmds'].value_counts())"
   ]
  },
  {
   "cell_type": "markdown",
   "id": "1756d93e",
   "metadata": {},
   "source": [
    "- 'is_host_login' and 'num_outbound_cmds' have only one unique value (0)\n",
    "- this is redudnant since a feature with only 1 value won't affect our model"
   ]
  },
  {
   "cell_type": "code",
   "execution_count": 8,
   "id": "d38276b8",
   "metadata": {},
   "outputs": [],
   "source": [
    "# 'num_outbound_cmds' and 'is_host_login' are redundant features so remove it from data\n",
    "\n",
    "X_train.drop(['num_outbound_cmds','is_host_login'], axis=1, inplace=True)\n",
    "X_test.drop(['num_outbound_cmds','is_host_login'], axis=1, inplace=True)"
   ]
  },
  {
   "cell_type": "code",
   "execution_count": 9,
   "id": "549e7ee0",
   "metadata": {},
   "outputs": [],
   "source": [
    "import matplotlib.pyplot as plt\n",
    "import seaborn as sns"
   ]
  },
  {
   "cell_type": "code",
   "execution_count": 10,
   "id": "1480b607",
   "metadata": {},
   "outputs": [
    {
     "name": "stderr",
     "output_type": "stream",
     "text": [
      "C:\\Users\\frank\\anaconda3\\lib\\site-packages\\seaborn\\_decorators.py:36: FutureWarning: Pass the following variable as a keyword arg: x. From version 0.12, the only valid positional argument will be `data`, and passing other arguments without an explicit keyword will result in an error or misinterpretation.\n",
      "  warnings.warn(\n"
     ]
    },
    {
     "data": {
      "text/plain": [
       "<AxesSubplot:xlabel='class', ylabel='count'>"
      ]
     },
     "execution_count": 10,
     "metadata": {},
     "output_type": "execute_result"
    },
    {
     "data": {
      "image/png": "[encoded data removed]",
      "text/plain": [
       "<Figure size 432x288 with 1 Axes>"
      ]
     },
     "metadata": {
      "needs_background": "light"
     },
     "output_type": "display_data"
    }
   ],
   "source": [
    "# visualizing the distribution of the target class\n",
    "\n",
    "sns.countplot(y_train)"
   ]
  },
  {
   "cell_type": "code",
   "execution_count": 11,
   "id": "db9c2dfe",
   "metadata": {},
   "outputs": [
    {
     "name": "stderr",
     "output_type": "stream",
     "text": [
      "C:\\Users\\frank\\anaconda3\\lib\\site-packages\\seaborn\\_decorators.py:36: FutureWarning: Pass the following variable as a keyword arg: x. From version 0.12, the only valid positional argument will be `data`, and passing other arguments without an explicit keyword will result in an error or misinterpretation.\n",
      "  warnings.warn(\n"
     ]
    },
    {
     "data": {
      "text/plain": [
       "<AxesSubplot:xlabel='protocol_type', ylabel='count'>"
      ]
     },
     "execution_count": 11,
     "metadata": {},
     "output_type": "execute_result"
    },
    {
     "data": {
      "image/png": "[encoded data removed]",
      "text/plain": [
       "<Figure size 432x288 with 1 Axes>"
      ]
     },
     "metadata": {
      "needs_background": "light"
     },
     "output_type": "display_data"
    }
   ],
   "source": [
    "sns.countplot(X_train['protocol_type'], hue = y_train)"
   ]
  },
  {
   "cell_type": "code",
   "execution_count": 12,
   "id": "c2f0757e",
   "metadata": {},
   "outputs": [
    {
     "name": "stderr",
     "output_type": "stream",
     "text": [
      "C:\\Users\\frank\\anaconda3\\lib\\site-packages\\seaborn\\_decorators.py:36: FutureWarning: Pass the following variable as a keyword arg: x. From version 0.12, the only valid positional argument will be `data`, and passing other arguments without an explicit keyword will result in an error or misinterpretation.\n",
      "  warnings.warn(\n"
     ]
    },
    {
     "data": {
      "text/plain": [
       "<AxesSubplot:xlabel='flag', ylabel='count'>"
      ]
     },
     "execution_count": 12,
     "metadata": {},
     "output_type": "execute_result"
    },
    {
     "data": {
      "image/png": "[encoded data removed]",
      "text/plain": [
       "<Figure size 864x432 with 1 Axes>"
      ]
     },
     "metadata": {
      "needs_background": "light"
     },
     "output_type": "display_data"
    }
   ],
   "source": [
    "plt.figure(figsize=(12,6))\n",
    "sns.countplot(X_train['flag'], hue = y_train)"
   ]
  },
  {
   "cell_type": "code",
   "execution_count": 13,
   "id": "f0ced437",
   "metadata": {},
   "outputs": [
    {
     "name": "stderr",
     "output_type": "stream",
     "text": [
      "C:\\Users\\frank\\anaconda3\\lib\\site-packages\\seaborn\\distributions.py:2619: FutureWarning: `distplot` is a deprecated function and will be removed in a future version. Please adapt your code to use either `displot` (a figure-level function with similar flexibility) or `histplot` (an axes-level function for histograms).\n",
      "  warnings.warn(msg, FutureWarning)\n"
     ]
    },
    {
     "data": {
      "text/plain": [
       "<AxesSubplot:xlabel='count'>"
      ]
     },
     "execution_count": 13,
     "metadata": {},
     "output_type": "execute_result"
    },
    {
     "data": {
      "image/png": "[encoded data removed]",
      "text/plain": [
       "<Figure size 1152x432 with 1 Axes>"
      ]
     },
     "metadata": {
      "needs_background": "light"
     },
     "output_type": "display_data"
    }
   ],
   "source": [
    "plt.figure(figsize=(16,6))\n",
    "sns.distplot(X_train['count'], kde = False)"
   ]
  },
  {
   "cell_type": "code",
   "execution_count": 14,
   "id": "b1b87582",
   "metadata": {},
   "outputs": [
    {
     "data": {
      "text/plain": [
       "<AxesSubplot:xlabel='dst_host_srv_count', ylabel='Density'>"
      ]
     },
     "execution_count": 14,
     "metadata": {},
     "output_type": "execute_result"
    },
    {
     "data": {
      "image/png": "[encoded data removed]",
      "text/plain": [
       "<Figure size 432x288 with 1 Axes>"
      ]
     },
     "metadata": {
      "needs_background": "light"
     },
     "output_type": "display_data"
    }
   ],
   "source": [
    "sns.distplot(X_train.dst_host_srv_count)"
   ]
  },
  {
   "cell_type": "markdown",
   "id": "66e8c1ce",
   "metadata": {},
   "source": [
    "### Observations from Analyis ###\n",
    "- There is a slight imbalance beteen the target column \"class\" of the dataset, but it is not significant so I'm not using oversampling\n",
    "- 80% of traffic is TCP, while 12% is UDP, and the rest is ICMP\n",
    "- Most of the ICMP traffic were anomalies, most of the UDP traffic was normal, and the distribution for TCP was about equal\n",
    "- The traffic distribution on the basis of flags was also uneven where most of it had SF(Sign Flag)\n",
    "- Most of the traffic with SF was normal, while those that had S0 flag were anomalies\n",
    "- Most of the traffic recorded was unique.\n",
    "- Count of most of the connections having the same destination host and using the same service was either very low or very high"
   ]
  },
  {
   "cell_type": "code",
   "execution_count": 15,
   "id": "82ac0cc9",
   "metadata": {},
   "outputs": [],
   "source": [
    "# Encoding target class to 0 and 1 where anomaly = 1 and normal = 0\n",
    "\n",
    "y_train = y_train.apply(lambda x: 1 if x == \"anomaly\" else 0)\n",
    "y_test = y_test.apply(lambda x: 1 if x == \"anomaly\" else 0)"
   ]
  },
  {
   "cell_type": "code",
   "execution_count": 16,
   "id": "663cf7be",
   "metadata": {},
   "outputs": [
    {
     "data": {
      "text/plain": [
       "<AxesSubplot:>"
      ]
     },
     "execution_count": 16,
     "metadata": {},
     "output_type": "execute_result"
    },
    {
     "data": {
      "image/png": "[encoded data removed]",
      "text/plain": [
       "<Figure size 1152x720 with 2 Axes>"
      ]
     },
     "metadata": {
      "needs_background": "light"
     },
     "output_type": "display_data"
    }
   ],
   "source": [
    "# Correlation Heatmap\n",
    "\n",
    "plt.figure(figsize=(16,10))\n",
    "sns.heatmap(X_train.corr().apply(abs))"
   ]
  },
  {
   "cell_type": "code",
   "execution_count": 17,
   "id": "e2ca0641",
   "metadata": {},
   "outputs": [
    {
     "data": {
      "text/plain": [
       "same_srv_rate         0.748473\n",
       "dst_host_srv_count    0.720623\n",
       "dtype: float64"
      ]
     },
     "execution_count": 17,
     "metadata": {},
     "output_type": "execute_result"
    }
   ],
   "source": [
    "corr_with_target = X_train.corrwith(y_train).apply(abs)\n",
    "corr_with_target[corr_with_target > 0.7]"
   ]
  },
  {
   "cell_type": "markdown",
   "id": "43ea7355",
   "metadata": {},
   "source": [
    "- From the above correlation heatmap, we can see that most of the data has very low correlation\n",
    "- This is a good characterstic for our Machine Learning Process\n",
    "- Few features had high correlation with our target class (same_srv_rate & dst_host_srv_count) which will be helpful for our model"
   ]
  },
  {
   "cell_type": "markdown",
   "id": "26241fe1",
   "metadata": {},
   "source": [
    "### Preprocessing the Data ###"
   ]
  },
  {
   "cell_type": "code",
   "execution_count": 18,
   "id": "bb11d4fd",
   "metadata": {},
   "outputs": [],
   "source": [
    "from sklearn.preprocessing import LabelEncoder\n",
    "\n",
    "# Custom Label Encoder for handling unknown values\n",
    "\n",
    "class LabelEncoderExt(object):\n",
    "    def __init__(self):\n",
    "        self.label_encoder = LabelEncoder()\n",
    "\n",
    "    def fit(self, data):\n",
    "        self.label_encoder = self.label_encoder.fit(list(data) + ['Unknown'])\n",
    "        self.classes_ = self.label_encoder.classes_\n",
    "        return self\n",
    "\n",
    "    def transform(self, data):\n",
    "        new_data = list(data)\n",
    "        for unique_item in np.unique(data):\n",
    "            if unique_item not in self.label_encoder.classes_:\n",
    "                new_data = ['Unknown' if x == unique_item else x for x in new_data]\n",
    "        return self.label_encoder.transform(new_data)"
   ]
  },
  {
   "cell_type": "code",
   "execution_count": 19,
   "id": "10776ad3",
   "metadata": {},
   "outputs": [],
   "source": [
    "le = LabelEncoderExt()\n",
    "\n",
    "# encode the selected columns\n",
    "for col in X_train.select_dtypes(\"object\"):\n",
    "    le.fit(X_train[col])\n",
    "    X_train[col] = le.transform(X_train[col])\n",
    "    X_test[col] = le.transform(X_test[col])"
   ]
  },
  {
   "cell_type": "code",
   "execution_count": 20,
   "id": "649d6d40",
   "metadata": {},
   "outputs": [],
   "source": [
    "from sklearn.preprocessing import StandardScaler\n",
    "\n",
    "# Normalizing the numerical data\n",
    "\n",
    "scaler = StandardScaler()\n",
    "# store the columns\n",
    "cols = X_train.columns\n",
    "\n",
    "# transform the data\n",
    "X_train_scaled = scaler.fit_transform(X_train)\n",
    "X_test_scaled = scaler.transform(X_test)\n",
    "\n",
    "X_train_scaled = pd.DataFrame(X_train_scaled, columns = cols)\n",
    "X_test_scaled = pd.DataFrame(X_test_scaled, columns = cols)"
   ]
  },
  {
   "cell_type": "code",
   "execution_count": 21,
   "id": "6395e6d1",
   "metadata": {},
   "outputs": [],
   "source": [
    "from sklearn.ensemble import RandomForestClassifier\n",
    "\n",
    "# Feature Selection\n",
    "rfc = RandomForestClassifier();\n",
    "\n",
    "rfc.fit(X_train_scaled, y_train)\n",
    "\n",
    "feat_imp = pd.DataFrame({'feature':X_train.columns, 'importance':rfc.feature_importances_})\n",
    "feat_imp = feat_imp.sort_values('importance', ascending = False).set_index('feature')"
   ]
  },
  {
   "cell_type": "code",
   "execution_count": 22,
   "id": "cc91ec34",
   "metadata": {},
   "outputs": [
    {
     "data": {
      "text/plain": [
       "[<matplotlib.lines.Line2D at 0x1bdc860d430>]"
      ]
     },
     "execution_count": 22,
     "metadata": {},
     "output_type": "execute_result"
    },
    {
     "data": {
      "image/png": "[encoded data removed]",
      "text/plain": [
       "<Figure size 720x360 with 1 Axes>"
      ]
     },
     "metadata": {
      "needs_background": "light"
     },
     "output_type": "display_data"
    }
   ],
   "source": [
    "# Visualizing of the Feature Importances\n",
    "\n",
    "# plot feat_imp\n",
    "plt.figure(figsize = (10, 5))\n",
    "plt.title(\"Feature Importance\")\n",
    "plt.ylabel(\"Importances\")\n",
    "plt.xlabel(\"Features\")\n",
    "plt.xticks(rotation = 90)\n",
    "plt.plot(feat_imp)"
   ]
  },
  {
   "cell_type": "code",
   "execution_count": 23,
   "id": "b3b35c8d",
   "metadata": {},
   "outputs": [],
   "source": [
    "from sklearn.feature_selection import RFE\n",
    "\n",
    "# Using recursive feature elimination for FeatureSelection\n",
    "\n",
    "estimator = RandomForestClassifier()\n",
    "selector = RFE(estimator)\n",
    "selector.fit(X_train_scaled, y_train)\n",
    "\n",
    "X_train_scaled = selector.transform(X_train_scaled)\n",
    "X_test_scaled = selector.transform(X_test_scaled)"
   ]
  },
  {
   "cell_type": "markdown",
   "id": "27582cea",
   "metadata": {},
   "source": [
    "### Trying Different Models ###"
   ]
  },
  {
   "cell_type": "code",
   "execution_count": 24,
   "id": "6a82664a",
   "metadata": {},
   "outputs": [],
   "source": [
    "from sklearn.linear_model import LogisticRegression\n",
    "from sklearn.svm import SVC\n",
    "from lightgbm import LGBMClassifier\n",
    "from xgboost import XGBClassifier\n",
    "\n",
    "# Logistic Regression Model\n",
    "logistic_regression = LogisticRegression()\n",
    "# SVM model\n",
    "svm = SVC(random_state = 0)\n",
    "# LightGBM Model\n",
    "lgbmc = LGBMClassifier(random_state = 0)\n",
    "# XGBoost Model\n",
    "xgbc = XGBClassifier(eval_metric = \"logloss\", random_state = 0)"
   ]
  },
  {
   "cell_type": "code",
   "execution_count": 25,
   "id": "567fe50c",
   "metadata": {},
   "outputs": [],
   "source": [
    "from sklearn.model_selection import cross_val_score\n",
    "\n",
    "models = {}\n",
    "models['LogisticRegression']= logistic_regression\n",
    "models['SVM']= svm\n",
    "models['LightGBM Classifier']= lgbmc\n",
    "models['XGBoost Classifier']= xgbc\n",
    "\n",
    "scores = {}\n",
    "for name in models:\n",
    "    scores[name]={}\n",
    "    for scorer in ['precision', 'recall']:\n",
    "        scores[name][scorer] = cross_val_score(models[name], X_train_scaled, y_train, cv = 10, scoring = scorer)"
   ]
  },
  {
   "cell_type": "code",
   "execution_count": 26,
   "id": "08008bc5",
   "metadata": {},
   "outputs": [
    {
     "name": "stdout",
     "output_type": "stream",
     "text": [
      "**************** LogisticRegression Model Validation ****************\n",
      "Mean precision: \n",
      " 94.39 % +- 0.51\n",
      "\n",
      "Mean recall: \n",
      " 92.77 % +- 0.75\n",
      "\n",
      "************************ SVM Model Validation ************************\n",
      "Mean precision: \n",
      " 98.55 % +- 0.45\n",
      "\n",
      "Mean recall: \n",
      " 98.88 % +- 0.34\n",
      "\n",
      "**************** LightGBM Classifier Model Validation ****************\n",
      "Mean precision: \n",
      " 99.83 % +- 0.16\n",
      "\n",
      "Mean recall: \n",
      " 99.6 % +- 0.14\n",
      "\n",
      "**************** XGBoost Classifier Model Validation ****************\n",
      "Mean precision: \n",
      " 99.7 % +- 0.26\n",
      "\n",
      "Mean recall: \n",
      " 99.2 % +- 0.24\n",
      "\n"
     ]
    }
   ],
   "source": [
    "def line(name):\n",
    "    return '*'*(25-len(name)//2)\n",
    "\n",
    "for name in models:\n",
    "    print(line(name), name, 'Model Validation', line(name))\n",
    "    for scorer in ['precision','recall']:\n",
    "        mean = round(np.mean(scores[name][scorer])*100,2)\n",
    "        stdev = round(np.std(scores[name][scorer])*100,2)\n",
    "        print (\"Mean {}:\".format(scorer),\"\\n\", mean,\"%\", \"+-\",stdev)\n",
    "        print()"
   ]
  },
  {
   "cell_type": "markdown",
   "id": "23cec5ca",
   "metadata": {},
   "source": [
    "- Though SVM classifier was close, we can see that our XGBoost and LightGBM model classifiers performed best on the training data\n",
    "- precision: (low false positive rate) when model predicts someone is an anomaly, it is correct x% of the time\n",
    "- recall: (low false negative rate) out of all instances that are truly anomalies, x% were correctly labeled positive"
   ]
  },
  {
   "cell_type": "code",
   "execution_count": 27,
   "id": "19eb3d06",
   "metadata": {},
   "outputs": [],
   "source": [
    "for name in models:\n",
    "    for scorer in ['precision','recall']:\n",
    "        scores[name][scorer] = scores[name][scorer].mean()\n",
    "scores = pd.DataFrame(scores).swapaxes(\"index\", \"columns\")*100"
   ]
  },
  {
   "cell_type": "code",
   "execution_count": 28,
   "id": "00b29850",
   "metadata": {},
   "outputs": [
    {
     "data": {
      "text/plain": [
       "<AxesSubplot:>"
      ]
     },
     "execution_count": 28,
     "metadata": {},
     "output_type": "execute_result"
    },
    {
     "data": {
      "image/png": "[encoded data removed]",
      "text/plain": [
       "<Figure size 720x432 with 1 Axes>"
      ]
     },
     "metadata": {
      "needs_background": "light"
     },
     "output_type": "display_data"
    }
   ],
   "source": [
    "scores.plot(kind = \"bar\",  ylim = [80,100], figsize = (10,6), rot = 0)"
   ]
  },
  {
   "cell_type": "markdown",
   "id": "2f597259",
   "metadata": {},
   "source": [
    "### Training the models and predicting on 30% of Train Data ###"
   ]
  },
  {
   "cell_type": "code",
   "execution_count": 29,
   "id": "20ba15b1",
   "metadata": {},
   "outputs": [],
   "source": [
    "models = {}\n",
    "models['LogisticRegression']= logistic_regression\n",
    "models['SVM']= svm\n",
    "models['LightGBM Classifier']= lgbmc\n",
    "models['XGBoost Classifier']= xgbc\n",
    "\n",
    "preds={}\n",
    "for name in models:\n",
    "    models[name].fit(X_train_scaled, y_train)\n",
    "    preds[name] = models[name].predict(X_test_scaled)"
   ]
  },
  {
   "cell_type": "markdown",
   "id": "5b495278",
   "metadata": {},
   "source": [
    "### Evaluating Results of Models ###"
   ]
  },
  {
   "cell_type": "code",
   "execution_count": 30,
   "id": "7fa8fa0c",
   "metadata": {},
   "outputs": [],
   "source": [
    "def line(name, sym = \"*\"):\n",
    "    return sym*(25-len(name)//2)"
   ]
  },
  {
   "cell_type": "code",
   "execution_count": 31,
   "id": "6cd930b9",
   "metadata": {},
   "outputs": [
    {
     "name": "stdout",
     "output_type": "stream",
     "text": [
      "**************** LogisticRegression Model Testing ****************\n",
      "[[3869  184]\n",
      " [ 269 3236]]\n",
      "----------------\n",
      "              precision    recall  f1-score   support\n",
      "\n",
      "      normal       0.93      0.95      0.94      4053\n",
      "     anamoly       0.95      0.92      0.93      3505\n",
      "\n",
      "    accuracy                           0.94      7558\n",
      "   macro avg       0.94      0.94      0.94      7558\n",
      "weighted avg       0.94      0.94      0.94      7558\n",
      "\n",
      "************************ SVM Model Testing ************************\n",
      "[[4007   46]\n",
      " [  33 3472]]\n",
      "------------------------\n",
      "              precision    recall  f1-score   support\n",
      "\n",
      "      normal       0.99      0.99      0.99      4053\n",
      "     anamoly       0.99      0.99      0.99      3505\n",
      "\n",
      "    accuracy                           0.99      7558\n",
      "   macro avg       0.99      0.99      0.99      7558\n",
      "weighted avg       0.99      0.99      0.99      7558\n",
      "\n",
      "**************** LightGBM Classifier Model Testing ****************\n",
      "[[4045    8]\n",
      " [  13 3492]]\n",
      "----------------\n",
      "              precision    recall  f1-score   support\n",
      "\n",
      "      normal       1.00      1.00      1.00      4053\n",
      "     anamoly       1.00      1.00      1.00      3505\n",
      "\n",
      "    accuracy                           1.00      7558\n",
      "   macro avg       1.00      1.00      1.00      7558\n",
      "weighted avg       1.00      1.00      1.00      7558\n",
      "\n",
      "**************** XGBoost Classifier Model Testing ****************\n",
      "[[4042   11]\n",
      " [  22 3483]]\n",
      "----------------\n",
      "              precision    recall  f1-score   support\n",
      "\n",
      "      normal       0.99      1.00      1.00      4053\n",
      "     anamoly       1.00      0.99      1.00      3505\n",
      "\n",
      "    accuracy                           1.00      7558\n",
      "   macro avg       1.00      1.00      1.00      7558\n",
      "weighted avg       1.00      1.00      1.00      7558\n",
      "\n"
     ]
    }
   ],
   "source": [
    "from sklearn.metrics import confusion_matrix, classification_report, f1_score\n",
    "\n",
    "targets = [\"normal\", \"anamoly\"]\n",
    "for name in models:\n",
    "    print(line(name), name, 'Model Testing', line(name))\n",
    "    print(confusion_matrix(y_test, preds[name]))\n",
    "    print(line(name,'-'))\n",
    "    print(classification_report(y_test, preds[name], target_names = targets))"
   ]
  },
  {
   "cell_type": "code",
   "execution_count": 32,
   "id": "babd1f47",
   "metadata": {},
   "outputs": [],
   "source": [
    "f1s = {}\n",
    "for name in models:\n",
    "    f1s[name] = f1_score(y_test, preds[name])\n",
    "f1s = pd.DataFrame(f1s.values(), index = f1s.keys(), columns = [\"F1-score\"])*100"
   ]
  },
  {
   "cell_type": "code",
   "execution_count": 33,
   "id": "53870eaf",
   "metadata": {},
   "outputs": [
    {
     "data": {
      "text/plain": [
       "<AxesSubplot:>"
      ]
     },
     "execution_count": 33,
     "metadata": {},
     "output_type": "execute_result"
    },
    {
     "data": {
      "image/png": "[encoded data removed]",
      "text/plain": [
       "<Figure size 720x432 with 1 Axes>"
      ]
     },
     "metadata": {
      "needs_background": "light"
     },
     "output_type": "display_data"
    }
   ],
   "source": [
    "# visualizing the F1-scores of the models\n",
    "f1s.plot(kind = \"bar\",  ylim = [80,100], figsize = (10,6), rot = 0)"
   ]
  },
  {
   "cell_type": "code",
   "execution_count": 34,
   "id": "ada87279",
   "metadata": {},
   "outputs": [
    {
     "data": {
      "text/html": [
       "<div>\n",
       "<style scoped>\n",
       "    .dataframe tbody tr th:only-of-type {\n",
       "        vertical-align: middle;\n",
       "    }\n",
       "\n",
       "    .dataframe tbody tr th {\n",
       "        vertical-align: top;\n",
       "    }\n",
       "\n",
       "    .dataframe thead th {\n",
       "        text-align: right;\n",
       "    }\n",
       "</style>\n",
       "<table border=\"1\" class=\"dataframe\">\n",
       "  <thead>\n",
       "    <tr style=\"text-align: right;\">\n",
       "      <th></th>\n",
       "      <th>F1-score</th>\n",
       "    </tr>\n",
       "  </thead>\n",
       "  <tbody>\n",
       "    <tr>\n",
       "      <th>LogisticRegression</th>\n",
       "      <td>93.458484</td>\n",
       "    </tr>\n",
       "    <tr>\n",
       "      <th>SVM</th>\n",
       "      <td>98.875125</td>\n",
       "    </tr>\n",
       "    <tr>\n",
       "      <th>LightGBM Classifier</th>\n",
       "      <td>99.700214</td>\n",
       "    </tr>\n",
       "    <tr>\n",
       "      <th>XGBoost Classifier</th>\n",
       "      <td>99.528504</td>\n",
       "    </tr>\n",
       "  </tbody>\n",
       "</table>\n",
       "</div>"
      ],
      "text/plain": [
       "                      F1-score\n",
       "LogisticRegression   93.458484\n",
       "SVM                  98.875125\n",
       "LightGBM Classifier  99.700214\n",
       "XGBoost Classifier   99.528504"
      ]
     },
     "execution_count": 34,
     "metadata": {},
     "output_type": "execute_result"
    }
   ],
   "source": [
    "f1s"
   ]
  },
  {
   "cell_type": "markdown",
   "id": "9f6b4cfe",
   "metadata": {},
   "source": []
  },
  {
   "cell_type": "markdown",
   "id": "119ac8a0",
   "metadata": {},
   "source": [
    "- As we can see, each of the models performed very well on the subset of the data we used for testing the models with LogisticRegression performing the worst of the models with still a strong F1-score of around 93\n",
    "- SVM, LightGBM and XGBoost all performed extremely well with LightGBM performing the best, slightly over XGBoost and SVM not far behind"
   ]
  },
  {
   "cell_type": "markdown",
   "id": "6397731d",
   "metadata": {},
   "source": [
    "### Predicting on Test Dataset ###"
   ]
  },
  {
   "cell_type": "code",
   "execution_count": 35,
   "id": "25c13105",
   "metadata": {},
   "outputs": [],
   "source": [
    "test = pd.read_csv('Test_data.csv')"
   ]
  },
  {
   "cell_type": "code",
   "execution_count": 36,
   "id": "ed3a4684",
   "metadata": {},
   "outputs": [],
   "source": [
    "# Doing the same preprocessing as in the training data above\n",
    "test.drop(['num_outbound_cmds','is_host_login'], axis=1, inplace=True)"
   ]
  },
  {
   "cell_type": "code",
   "execution_count": 37,
   "id": "420a51ee",
   "metadata": {},
   "outputs": [],
   "source": [
    "for col in test.select_dtypes(\"object\"):\n",
    "    le.fit(test[col])\n",
    "    test[col] = le.transform(test[col])"
   ]
  },
  {
   "cell_type": "code",
   "execution_count": 38,
   "id": "85c15a76",
   "metadata": {},
   "outputs": [],
   "source": [
    "# Normalizing the numerical data\n",
    "\n",
    "scaler = StandardScaler()\n",
    "# store the columns\n",
    "cols = test.columns\n",
    "\n",
    "# transform the data\n",
    "test_scaled = scaler.fit_transform(test)\n",
    "\n",
    "test_scaled = pd.DataFrame(test_scaled, columns = cols)"
   ]
  },
  {
   "cell_type": "code",
   "execution_count": 39,
   "id": "4c8d25a3",
   "metadata": {},
   "outputs": [],
   "source": [
    "test_scaled = selector.transform(test_scaled)"
   ]
  },
  {
   "cell_type": "code",
   "execution_count": 40,
   "id": "c58c8565",
   "metadata": {},
   "outputs": [],
   "source": [
    "# Predicting on the test data\n",
    "test_predictions = lgbmc.predict(test_scaled)"
   ]
  },
  {
   "cell_type": "code",
   "execution_count": 41,
   "id": "b56ab91b",
   "metadata": {},
   "outputs": [
    {
     "data": {
      "text/plain": [
       "array([1, 1, 0, ..., 1, 0, 1], dtype=int64)"
      ]
     },
     "execution_count": 41,
     "metadata": {},
     "output_type": "execute_result"
    }
   ],
   "source": [
    "test_predictions"
   ]
  },
  {
   "cell_type": "code",
   "execution_count": 42,
   "id": "11ade3e5",
   "metadata": {},
   "outputs": [],
   "source": [
    "# Sending predictions to output file\n",
    "test_predictions_file = open('lgbmc_predictions.txt', 'w+')\n",
    "pd.Series(test_predictions).to_csv(\"lgbmc_predictions.txt\", index = False, header = None)\n",
    "test_predictions_file.close()"
   ]
  },
  {
   "cell_type": "code",
   "execution_count": null,
   "id": "116b6ffb",
   "metadata": {},
   "outputs": [],
   "source": []
  }
 ],
 "metadata": {
  "kernelspec": {
   "display_name": "Python 3 (ipykernel)",
   "language": "python",
   "name": "python3"
  },
  "language_info": {
   "codemirror_mode": {
    "name": "ipython",
    "version": 3
   },
   "file_extension": ".py",
   "mimetype": "text/x-python",
   "name": "python",
   "nbconvert_exporter": "python",
   "pygments_lexer": "ipython3",
   "version": "3.9.7"
  }
 },
 "nbformat": 4,
 "nbformat_minor": 5
}
